{
  "nbformat": 4,
  "nbformat_minor": 0,
  "metadata": {
    "colab": {
      "name": "NumPy.ipynb",
      "provenance": [],
      "collapsed_sections": [],
      "authorship_tag": "ABX9TyP3lfhP09DQohHaj9pf6QqT",
      "include_colab_link": true
    },
    "kernelspec": {
      "name": "python3",
      "display_name": "Python 3"
    },
    "language_info": {
      "name": "python"
    }
  },
  "cells": [
    {
      "cell_type": "markdown",
      "metadata": {
        "id": "view-in-github",
        "colab_type": "text"
      },
      "source": [
        "<a href=\"https://colab.research.google.com/github/makena-yvonne/Countdown/blob/master/NumPy.ipynb\" target=\"_parent\"><img src=\"https://colab.research.google.com/assets/colab-badge.svg\" alt=\"Open In Colab\"/></a>"
      ]
    },
    {
      "cell_type": "code",
      "metadata": {
        "id": "QIKJplHWqfha"
      },
      "source": [
        "import sys\n",
        "import numpy as np"
      ],
      "execution_count": 1,
      "outputs": []
    },
    {
      "cell_type": "code",
      "metadata": {
        "colab": {
          "base_uri": "https://localhost:8080/"
        },
        "id": "RwvSHn2VqW4v",
        "outputId": "27d10f5d-573e-46c3-e33a-d64b20c282d1"
      },
      "source": [
        "#Basic Numpy Arrays\n",
        "np.array([1, 2, 3, 4])"
      ],
      "execution_count": 2,
      "outputs": [
        {
          "output_type": "execute_result",
          "data": {
            "text/plain": [
              "array([1, 2, 3, 4])"
            ]
          },
          "metadata": {
            "tags": []
          },
          "execution_count": 2
        }
      ]
    },
    {
      "cell_type": "code",
      "metadata": {
        "id": "mRXzHgiztX5E"
      },
      "source": [
        "a = np.array([1, 2, 3, 4])"
      ],
      "execution_count": 3,
      "outputs": []
    },
    {
      "cell_type": "code",
      "metadata": {
        "id": "00TXkJiJ8C7f"
      },
      "source": [
        "b = np.array([0, .5, 1, 1.5, 2])\n"
      ],
      "execution_count": 4,
      "outputs": []
    },
    {
      "cell_type": "code",
      "metadata": {
        "id": "nCIao6A0AZap",
        "colab": {
          "base_uri": "https://localhost:8080/"
        },
        "outputId": "ea700def-8905-402d-aa5d-ca9361159159"
      },
      "source": [
        "a[0], a[1]"
      ],
      "execution_count": 5,
      "outputs": [
        {
          "output_type": "execute_result",
          "data": {
            "text/plain": [
              "(1, 2)"
            ]
          },
          "metadata": {
            "tags": []
          },
          "execution_count": 5
        }
      ]
    },
    {
      "cell_type": "code",
      "metadata": {
        "id": "A9ObEveaA2Vc",
        "colab": {
          "base_uri": "https://localhost:8080/"
        },
        "outputId": "9b0f7dde-fe46-4d9a-91f5-951b13a76102"
      },
      "source": [
        "a[0:]"
      ],
      "execution_count": 6,
      "outputs": [
        {
          "output_type": "execute_result",
          "data": {
            "text/plain": [
              "array([1, 2, 3, 4])"
            ]
          },
          "metadata": {
            "tags": []
          },
          "execution_count": 6
        }
      ]
    },
    {
      "cell_type": "code",
      "metadata": {
        "id": "4_mUHhP4A5fP",
        "colab": {
          "base_uri": "https://localhost:8080/"
        },
        "outputId": "073dd1bd-7b67-43ab-f291-171006ff5a98"
      },
      "source": [
        "a[1:3]"
      ],
      "execution_count": 7,
      "outputs": [
        {
          "output_type": "execute_result",
          "data": {
            "text/plain": [
              "array([2, 3])"
            ]
          },
          "metadata": {
            "tags": []
          },
          "execution_count": 7
        }
      ]
    },
    {
      "cell_type": "code",
      "metadata": {
        "id": "tyD8xjpOBQ1b",
        "colab": {
          "base_uri": "https://localhost:8080/"
        },
        "outputId": "1006e28a-50db-4a6d-d6d0-1c15855cd8ff"
      },
      "source": [
        "a[1:-1]"
      ],
      "execution_count": 8,
      "outputs": [
        {
          "output_type": "execute_result",
          "data": {
            "text/plain": [
              "array([2, 3])"
            ]
          },
          "metadata": {
            "tags": []
          },
          "execution_count": 8
        }
      ]
    },
    {
      "cell_type": "code",
      "metadata": {
        "id": "kA-yhCLfBVTA",
        "colab": {
          "base_uri": "https://localhost:8080/"
        },
        "outputId": "de277967-4f0c-4b49-8b2e-586452863a21"
      },
      "source": [
        "a[::2]"
      ],
      "execution_count": 9,
      "outputs": [
        {
          "output_type": "execute_result",
          "data": {
            "text/plain": [
              "array([1, 3])"
            ]
          },
          "metadata": {
            "tags": []
          },
          "execution_count": 9
        }
      ]
    },
    {
      "cell_type": "code",
      "metadata": {
        "id": "2iQeMkACCRit",
        "colab": {
          "base_uri": "https://localhost:8080/"
        },
        "outputId": "cbec0bc6-91c2-4146-9b3c-30e7fc325be7"
      },
      "source": [
        "b\n"
      ],
      "execution_count": 10,
      "outputs": [
        {
          "output_type": "execute_result",
          "data": {
            "text/plain": [
              "array([0. , 0.5, 1. , 1.5, 2. ])"
            ]
          },
          "metadata": {
            "tags": []
          },
          "execution_count": 10
        }
      ]
    },
    {
      "cell_type": "code",
      "metadata": {
        "id": "GjtuWA1QCSxK",
        "colab": {
          "base_uri": "https://localhost:8080/"
        },
        "outputId": "617c39bd-9ce6-4b1e-e97b-15dadc72ee8f"
      },
      "source": [
        "b[0], b[2], b[-1]"
      ],
      "execution_count": 11,
      "outputs": [
        {
          "output_type": "execute_result",
          "data": {
            "text/plain": [
              "(0.0, 1.0, 2.0)"
            ]
          },
          "metadata": {
            "tags": []
          },
          "execution_count": 11
        }
      ]
    },
    {
      "cell_type": "code",
      "metadata": {
        "id": "7vgY4NLMCXB4",
        "colab": {
          "base_uri": "https://localhost:8080/"
        },
        "outputId": "b742e97b-7012-47d1-e215-449e0f77bcdc"
      },
      "source": [
        "b[[0,2,-1]]"
      ],
      "execution_count": 12,
      "outputs": [
        {
          "output_type": "execute_result",
          "data": {
            "text/plain": [
              "array([0., 1., 2.])"
            ]
          },
          "metadata": {
            "tags": []
          },
          "execution_count": 12
        }
      ]
    },
    {
      "cell_type": "code",
      "metadata": {
        "id": "1ZydQzzWCjzi",
        "colab": {
          "base_uri": "https://localhost:8080/"
        },
        "outputId": "5ceb5f5e-9c80-41d8-c5ca-acc551f1abc2"
      },
      "source": [
        "#Array Types\n",
        "a"
      ],
      "execution_count": 13,
      "outputs": [
        {
          "output_type": "execute_result",
          "data": {
            "text/plain": [
              "array([1, 2, 3, 4])"
            ]
          },
          "metadata": {
            "tags": []
          },
          "execution_count": 13
        }
      ]
    },
    {
      "cell_type": "code",
      "metadata": {
        "id": "fmgBnTBSC8PP",
        "colab": {
          "base_uri": "https://localhost:8080/"
        },
        "outputId": "6325cf16-9f93-4885-c0f3-d6e23b56ca13"
      },
      "source": [
        "a.dtype"
      ],
      "execution_count": 14,
      "outputs": [
        {
          "output_type": "execute_result",
          "data": {
            "text/plain": [
              "dtype('int64')"
            ]
          },
          "metadata": {
            "tags": []
          },
          "execution_count": 14
        }
      ]
    },
    {
      "cell_type": "code",
      "metadata": {
        "id": "GIHT7l-aC_uI",
        "colab": {
          "base_uri": "https://localhost:8080/"
        },
        "outputId": "22d6d6fd-3184-4892-cdd3-0cd34aa0a8ea"
      },
      "source": [
        "b"
      ],
      "execution_count": 15,
      "outputs": [
        {
          "output_type": "execute_result",
          "data": {
            "text/plain": [
              "array([0. , 0.5, 1. , 1.5, 2. ])"
            ]
          },
          "metadata": {
            "tags": []
          },
          "execution_count": 15
        }
      ]
    },
    {
      "cell_type": "markdown",
      "metadata": {
        "id": "DM36mS6vElpa"
      },
      "source": [
        ""
      ]
    },
    {
      "cell_type": "code",
      "metadata": {
        "id": "JEPq9VKQDJhs",
        "colab": {
          "base_uri": "https://localhost:8080/"
        },
        "outputId": "04bf4e34-0c44-43ca-eae0-7d9433980981"
      },
      "source": [
        "b.dtype"
      ],
      "execution_count": 16,
      "outputs": [
        {
          "output_type": "execute_result",
          "data": {
            "text/plain": [
              "dtype('float64')"
            ]
          },
          "metadata": {
            "tags": []
          },
          "execution_count": 16
        }
      ]
    },
    {
      "cell_type": "code",
      "metadata": {
        "id": "TwG4vsc9DL6y",
        "colab": {
          "base_uri": "https://localhost:8080/"
        },
        "outputId": "74f74e20-6bc1-408a-a3c1-2ffbd5c9f8df"
      },
      "source": [
        "np.array([1,2,3,4], dtype=np.float)"
      ],
      "execution_count": 17,
      "outputs": [
        {
          "output_type": "execute_result",
          "data": {
            "text/plain": [
              "array([1., 2., 3., 4.])"
            ]
          },
          "metadata": {
            "tags": []
          },
          "execution_count": 17
        }
      ]
    },
    {
      "cell_type": "code",
      "metadata": {
        "id": "nZj9Q54nDwJt",
        "colab": {
          "base_uri": "https://localhost:8080/",
          "height": 163
        },
        "outputId": "da8e49dd-55db-4fc4-880f-57d6f0faee16"
      },
      "source": [
        "array([1,2,3,4], dtype=int8)"
      ],
      "execution_count": 18,
      "outputs": [
        {
          "output_type": "error",
          "ename": "NameError",
          "evalue": "ignored",
          "traceback": [
            "\u001b[0;31m---------------------------------------------------------------------------\u001b[0m",
            "\u001b[0;31mNameError\u001b[0m                                 Traceback (most recent call last)",
            "\u001b[0;32m<ipython-input-18-e01ce4c2cf29>\u001b[0m in \u001b[0;36m<module>\u001b[0;34m()\u001b[0m\n\u001b[0;32m----> 1\u001b[0;31m \u001b[0marray\u001b[0m\u001b[0;34m(\u001b[0m\u001b[0;34m[\u001b[0m\u001b[0;36m1\u001b[0m\u001b[0;34m,\u001b[0m\u001b[0;36m2\u001b[0m\u001b[0;34m,\u001b[0m\u001b[0;36m3\u001b[0m\u001b[0;34m,\u001b[0m\u001b[0;36m4\u001b[0m\u001b[0;34m]\u001b[0m\u001b[0;34m,\u001b[0m \u001b[0mdtype\u001b[0m\u001b[0;34m=\u001b[0m\u001b[0mint8\u001b[0m\u001b[0;34m)\u001b[0m\u001b[0;34m\u001b[0m\u001b[0;34m\u001b[0m\u001b[0m\n\u001b[0m",
            "\u001b[0;31mNameError\u001b[0m: name 'array' is not defined"
          ]
        }
      ]
    },
    {
      "cell_type": "code",
      "metadata": {
        "id": "2WFDEmGFEKaz"
      },
      "source": [
        "c=np.array(['a','b','c'])"
      ],
      "execution_count": null,
      "outputs": []
    },
    {
      "cell_type": "code",
      "metadata": {
        "id": "86psfarKE78S"
      },
      "source": [
        "c.dtype"
      ],
      "execution_count": null,
      "outputs": []
    },
    {
      "cell_type": "code",
      "metadata": {
        "id": "jpZ0mKIOFETY"
      },
      "source": [
        "d=np.array([{'a':1}, sys])"
      ],
      "execution_count": null,
      "outputs": []
    },
    {
      "cell_type": "code",
      "metadata": {
        "id": "ZcCbL6teFQEN"
      },
      "source": [
        "d.dtype"
      ],
      "execution_count": null,
      "outputs": []
    },
    {
      "cell_type": "code",
      "metadata": {
        "id": "crQ7wn5ZFSHv"
      },
      "source": [
        "#Dimensions and shapes\n"
      ],
      "execution_count": null,
      "outputs": []
    },
    {
      "cell_type": "code",
      "metadata": {
        "id": "oLKR0g2kFgPT"
      },
      "source": [
        "A = np.array([\n",
        "              [1,2,3],\n",
        "              [4,5,6]\n",
        "])"
      ],
      "execution_count": null,
      "outputs": []
    },
    {
      "cell_type": "code",
      "metadata": {
        "id": "NHqTt2DDFx4X"
      },
      "source": [
        "A.shape"
      ],
      "execution_count": null,
      "outputs": []
    },
    {
      "cell_type": "code",
      "metadata": {
        "id": "nFP14pT1F0d-"
      },
      "source": [
        "A.ndim"
      ],
      "execution_count": null,
      "outputs": []
    },
    {
      "cell_type": "code",
      "metadata": {
        "id": "tubXoe7RGg_u"
      },
      "source": [
        "A.size"
      ],
      "execution_count": null,
      "outputs": []
    },
    {
      "cell_type": "code",
      "metadata": {
        "id": "OSVVQ2k4GkkO"
      },
      "source": [
        "B=np.array([\n",
        "            [\n",
        "             [12,11,18],\n",
        "             [9,8,7],\n",
        "            ],\n",
        "            [\n",
        "             [6,5,4],\n",
        "             [3,2,1]\n",
        "            ]\n",
        "])"
      ],
      "execution_count": null,
      "outputs": []
    },
    {
      "cell_type": "code",
      "metadata": {
        "id": "N5MWHPrYG-tt"
      },
      "source": [
        "B"
      ],
      "execution_count": null,
      "outputs": []
    },
    {
      "cell_type": "code",
      "metadata": {
        "id": "D6lYsui8HA6F"
      },
      "source": [
        "B.shape"
      ],
      "execution_count": null,
      "outputs": []
    },
    {
      "cell_type": "code",
      "metadata": {
        "id": "QtXl5qsiHFyu"
      },
      "source": [
        "B.ndim"
      ],
      "execution_count": null,
      "outputs": []
    },
    {
      "cell_type": "code",
      "metadata": {
        "id": "1N2fzjRBHSfn"
      },
      "source": [
        "B.size"
      ],
      "execution_count": null,
      "outputs": []
    },
    {
      "cell_type": "code",
      "metadata": {
        "id": "4aQK7FpEHVxr"
      },
      "source": [
        "C=np.array([\n",
        "            [\n",
        "             [12,11,18],\n",
        "             [9,8,7],\n",
        "            ],\n",
        "            [\n",
        "             [6,5,4]\n",
        "            ]\n",
        "])"
      ],
      "execution_count": null,
      "outputs": []
    },
    {
      "cell_type": "code",
      "metadata": {
        "id": "V3MrcckMHtYy"
      },
      "source": [
        "C.dtype"
      ],
      "execution_count": null,
      "outputs": []
    },
    {
      "cell_type": "code",
      "metadata": {
        "id": "UucOWJILH17K"
      },
      "source": [
        "C.shape"
      ],
      "execution_count": null,
      "outputs": []
    },
    {
      "cell_type": "code",
      "metadata": {
        "id": "qgAeJQp6H38Y"
      },
      "source": [
        "C.size"
      ],
      "execution_count": null,
      "outputs": []
    },
    {
      "cell_type": "code",
      "metadata": {
        "id": "6Ngqk0_gH6Mr"
      },
      "source": [
        "C(type[0])"
      ],
      "execution_count": null,
      "outputs": []
    },
    {
      "cell_type": "code",
      "metadata": {
        "id": "6xqGz-fMIGP0"
      },
      "source": [
        "#Indexing and Slicing of Matrices\n",
        "#Square matrix\n",
        "A=np.array([\n",
        "            [1,2,3],\n",
        "            [4,5,6],\n",
        "            [7,8,9]\n",
        "])"
      ],
      "execution_count": null,
      "outputs": []
    },
    {
      "cell_type": "code",
      "metadata": {
        "id": "q1wlVPfHIcnb"
      },
      "source": [
        "A[1]"
      ],
      "execution_count": null,
      "outputs": []
    },
    {
      "cell_type": "code",
      "metadata": {
        "id": "3VAvw1psIljV"
      },
      "source": [
        "A[1][0]"
      ],
      "execution_count": null,
      "outputs": []
    },
    {
      "cell_type": "code",
      "metadata": {
        "id": "pA0GH9Z8Iqxv"
      },
      "source": [
        "A[0:2]"
      ],
      "execution_count": null,
      "outputs": []
    },
    {
      "cell_type": "code",
      "metadata": {
        "id": "efHHJGVIIwyn"
      },
      "source": [
        "A[:, :2]"
      ],
      "execution_count": null,
      "outputs": []
    },
    {
      "cell_type": "code",
      "metadata": {
        "id": "spfOLxEZI58F"
      },
      "source": [
        "A[:2, :2]"
      ],
      "execution_count": null,
      "outputs": []
    },
    {
      "cell_type": "code",
      "metadata": {
        "id": "UF3uN1qkJDtY"
      },
      "source": [
        "A[:2, 2:]"
      ],
      "execution_count": null,
      "outputs": []
    },
    {
      "cell_type": "code",
      "metadata": {
        "id": "vV1Ch9IjJV64"
      },
      "source": [
        "A"
      ],
      "execution_count": null,
      "outputs": []
    },
    {
      "cell_type": "code",
      "metadata": {
        "id": "iiFU3xhpJYs0"
      },
      "source": [
        "A[1] = np.array([10,10,10])"
      ],
      "execution_count": null,
      "outputs": []
    },
    {
      "cell_type": "code",
      "metadata": {
        "id": "MYa6PbEeJloX"
      },
      "source": [
        "A"
      ],
      "execution_count": null,
      "outputs": []
    },
    {
      "cell_type": "code",
      "metadata": {
        "id": "1dvjPQjtJoQm"
      },
      "source": [
        "A"
      ],
      "execution_count": null,
      "outputs": []
    },
    {
      "cell_type": "code",
      "metadata": {
        "id": "3H3xtEBOJvK3"
      },
      "source": [
        "A[2]=99"
      ],
      "execution_count": null,
      "outputs": []
    },
    {
      "cell_type": "code",
      "metadata": {
        "id": "P3jTWw1jJzVb"
      },
      "source": [
        "A"
      ],
      "execution_count": null,
      "outputs": []
    },
    {
      "cell_type": "code",
      "metadata": {
        "id": "boTedhL7M_TO"
      },
      "source": [
        ""
      ],
      "execution_count": null,
      "outputs": []
    },
    {
      "cell_type": "code",
      "metadata": {
        "id": "rPooVAooJ3SM"
      },
      "source": [
        "#Summary Statistics\n",
        "a=np.array([1,2,3,4])"
      ],
      "execution_count": null,
      "outputs": []
    },
    {
      "cell_type": "code",
      "metadata": {
        "id": "U-iD0D2hKsXo"
      },
      "source": [
        "a.sum()"
      ],
      "execution_count": null,
      "outputs": []
    },
    {
      "cell_type": "code",
      "metadata": {
        "id": "h_ncka9rK0bk"
      },
      "source": [
        "a.mean()"
      ],
      "execution_count": null,
      "outputs": []
    },
    {
      "cell_type": "code",
      "metadata": {
        "id": "chuwWKAVK2GC"
      },
      "source": [
        "a.std()"
      ],
      "execution_count": null,
      "outputs": []
    },
    {
      "cell_type": "code",
      "metadata": {
        "id": "hk8_nUuLK4A1"
      },
      "source": [
        "a.var()"
      ],
      "execution_count": null,
      "outputs": []
    },
    {
      "cell_type": "code",
      "metadata": {
        "id": "rloEovlKK6C7"
      },
      "source": [
        "A=np.array([\n",
        "            [1,2,3],\n",
        "            [4,5,6],\n",
        "            [7,8,9]\n",
        "])"
      ],
      "execution_count": null,
      "outputs": []
    },
    {
      "cell_type": "code",
      "metadata": {
        "id": "gV1CIRNhLIKW"
      },
      "source": [
        "A.sum()"
      ],
      "execution_count": null,
      "outputs": []
    },
    {
      "cell_type": "code",
      "metadata": {
        "id": "HXkXQcc0LKZg"
      },
      "source": [
        "A.mean()"
      ],
      "execution_count": null,
      "outputs": []
    },
    {
      "cell_type": "code",
      "metadata": {
        "id": "0p3OCtC2LMk_"
      },
      "source": [
        "A.std()"
      ],
      "execution_count": null,
      "outputs": []
    },
    {
      "cell_type": "code",
      "metadata": {
        "id": "C44w7jmQLOJM"
      },
      "source": [
        "#per column\n",
        "A.sum(axis=0)"
      ],
      "execution_count": null,
      "outputs": []
    },
    {
      "cell_type": "code",
      "metadata": {
        "id": "PtBS7PNdLY60"
      },
      "source": [
        "#per row\n",
        "A.sum(axis=1)"
      ],
      "execution_count": null,
      "outputs": []
    },
    {
      "cell_type": "code",
      "metadata": {
        "id": "S3Qdn9OLLdkS"
      },
      "source": [
        "A.mean(axis=0)"
      ],
      "execution_count": null,
      "outputs": []
    },
    {
      "cell_type": "code",
      "metadata": {
        "id": "95jsjzrzLlB0"
      },
      "source": [
        "A.mean(axis=1)"
      ],
      "execution_count": null,
      "outputs": []
    },
    {
      "cell_type": "code",
      "metadata": {
        "id": "AKBH8x8pLnbP"
      },
      "source": [
        "A.std(axis=0)"
      ],
      "execution_count": null,
      "outputs": []
    },
    {
      "cell_type": "code",
      "metadata": {
        "id": "msN3iNILLrI8"
      },
      "source": [
        "A.std(axis=1)"
      ],
      "execution_count": null,
      "outputs": []
    },
    {
      "cell_type": "code",
      "metadata": {
        "id": "JXREmg-fLtJ6"
      },
      "source": [
        "#Broadcasting and vectorized operations\n",
        "a = np.arange(4)"
      ],
      "execution_count": null,
      "outputs": []
    },
    {
      "cell_type": "code",
      "metadata": {
        "id": "4emedB7hPWKC"
      },
      "source": [
        "a"
      ],
      "execution_count": null,
      "outputs": []
    },
    {
      "cell_type": "code",
      "metadata": {
        "id": "auzyYiwxPbbf"
      },
      "source": [
        "a+10"
      ],
      "execution_count": null,
      "outputs": []
    },
    {
      "cell_type": "code",
      "metadata": {
        "id": "N--njIdGPc0V"
      },
      "source": [
        "a*10"
      ],
      "execution_count": null,
      "outputs": []
    },
    {
      "cell_type": "code",
      "metadata": {
        "id": "pQPv61eiPklL"
      },
      "source": [
        "a"
      ],
      "execution_count": null,
      "outputs": []
    },
    {
      "cell_type": "code",
      "metadata": {
        "id": "8RadE1ZnPpc6"
      },
      "source": [
        "a+=100"
      ],
      "execution_count": null,
      "outputs": []
    },
    {
      "cell_type": "code",
      "metadata": {
        "id": "nnh0BjQUPtdM"
      },
      "source": [
        "a"
      ],
      "execution_count": null,
      "outputs": []
    },
    {
      "cell_type": "code",
      "metadata": {
        "id": "KIC3-2WhPwFN"
      },
      "source": [
        "l=[0,1,2,3]"
      ],
      "execution_count": null,
      "outputs": []
    },
    {
      "cell_type": "code",
      "metadata": {
        "id": "PbR7nZY2QEGY"
      },
      "source": [
        "[i * 10 for i in l]"
      ],
      "execution_count": null,
      "outputs": []
    },
    {
      "cell_type": "code",
      "metadata": {
        "id": "3u1yXs_bQM3Q"
      },
      "source": [
        "a=np.arange(4)"
      ],
      "execution_count": null,
      "outputs": []
    },
    {
      "cell_type": "code",
      "metadata": {
        "id": "3mBMOUvxQaaT"
      },
      "source": [
        "a"
      ],
      "execution_count": null,
      "outputs": []
    },
    {
      "cell_type": "code",
      "metadata": {
        "id": "RFERW1rOQa5L"
      },
      "source": [
        "b=np.array([10,10,10,10])"
      ],
      "execution_count": null,
      "outputs": []
    },
    {
      "cell_type": "code",
      "metadata": {
        "id": "Amk1OT5YQctI"
      },
      "source": [
        "b"
      ],
      "execution_count": null,
      "outputs": []
    },
    {
      "cell_type": "code",
      "metadata": {
        "id": "WHveb-NiQp6w"
      },
      "source": [
        "a+b"
      ],
      "execution_count": null,
      "outputs": []
    },
    {
      "cell_type": "code",
      "metadata": {
        "id": "zYEx-0B2QsYK"
      },
      "source": [
        "a*b"
      ],
      "execution_count": null,
      "outputs": []
    },
    {
      "cell_type": "code",
      "metadata": {
        "id": "KvvcS4LpROqs"
      },
      "source": [
        "a = np.arange(5)"
      ],
      "execution_count": null,
      "outputs": []
    },
    {
      "cell_type": "code",
      "metadata": {
        "id": "Ag1lQZH9RU_M"
      },
      "source": [
        "a+20"
      ],
      "execution_count": null,
      "outputs": []
    },
    {
      "cell_type": "code",
      "metadata": {
        "id": "QtEptzi-RfkB"
      },
      "source": [
        "a"
      ],
      "execution_count": null,
      "outputs": []
    },
    {
      "cell_type": "code",
      "metadata": {
        "id": "lmK8hFNcQxmn"
      },
      "source": [
        "#Boolean arrays\n"
      ],
      "execution_count": null,
      "outputs": []
    },
    {
      "cell_type": "code",
      "metadata": {
        "id": "ScDG3XE3Rqd1"
      },
      "source": [
        "a=np.arange(4)"
      ],
      "execution_count": null,
      "outputs": []
    },
    {
      "cell_type": "code",
      "metadata": {
        "id": "q3QbDeOwR2Fs"
      },
      "source": [
        "a"
      ],
      "execution_count": null,
      "outputs": []
    },
    {
      "cell_type": "code",
      "metadata": {
        "id": "S2RVcWAMSBEs"
      },
      "source": [
        "a[0], a[-1]"
      ],
      "execution_count": null,
      "outputs": []
    },
    {
      "cell_type": "code",
      "metadata": {
        "id": "5nTIksOqSJFw"
      },
      "source": [
        "a[[0,-1]]"
      ],
      "execution_count": null,
      "outputs": []
    },
    {
      "cell_type": "code",
      "metadata": {
        "id": "mijf-yS-SQKR"
      },
      "source": [
        "a[[True, False, False, True]]"
      ],
      "execution_count": null,
      "outputs": []
    },
    {
      "cell_type": "code",
      "metadata": {
        "id": "_71fqmcBSiwT"
      },
      "source": [
        "a >= 2"
      ],
      "execution_count": null,
      "outputs": []
    },
    {
      "cell_type": "code",
      "metadata": {
        "id": "z_hnZ0NXSnS-"
      },
      "source": [
        "a[a>=2]"
      ],
      "execution_count": null,
      "outputs": []
    },
    {
      "cell_type": "code",
      "metadata": {
        "id": "sPITg7XISyd1"
      },
      "source": [
        "a.mean()"
      ],
      "execution_count": null,
      "outputs": []
    },
    {
      "cell_type": "code",
      "metadata": {
        "id": "-oXxl71RS82x"
      },
      "source": [
        "a[a > a.mean()]"
      ],
      "execution_count": null,
      "outputs": []
    },
    {
      "cell_type": "code",
      "metadata": {
        "id": "ar3Qd7VfS249"
      },
      "source": [
        "a[~(a > a.mean())]"
      ],
      "execution_count": null,
      "outputs": []
    },
    {
      "cell_type": "code",
      "metadata": {
        "id": "XNlyd4XrTagA"
      },
      "source": [
        "a[(a == 0) | (a==1)]"
      ],
      "execution_count": null,
      "outputs": []
    },
    {
      "cell_type": "code",
      "metadata": {
        "id": "8FBDWSpxVqfG"
      },
      "source": [
        "a[(a<=2) & (a%2==0)]"
      ],
      "execution_count": null,
      "outputs": []
    },
    {
      "cell_type": "code",
      "metadata": {
        "id": "9W10QNVZVzxh"
      },
      "source": [
        "A = np.random.randint(100, size=(3,3))"
      ],
      "execution_count": 20,
      "outputs": []
    },
    {
      "cell_type": "code",
      "metadata": {
        "colab": {
          "base_uri": "https://localhost:8080/"
        },
        "id": "H0mgvphEWNhM",
        "outputId": "c4d1bf2b-db67-429b-a877-7c3cb52575d0"
      },
      "source": [
        "A"
      ],
      "execution_count": 21,
      "outputs": [
        {
          "output_type": "execute_result",
          "data": {
            "text/plain": [
              "array([[75, 25, 10],\n",
              "       [61, 55, 70],\n",
              "       [95, 16, 24]])"
            ]
          },
          "metadata": {
            "tags": []
          },
          "execution_count": 21
        }
      ]
    },
    {
      "cell_type": "code",
      "metadata": {
        "colab": {
          "base_uri": "https://localhost:8080/"
        },
        "id": "iHlgNqNdWPAh",
        "outputId": "07ad8b30-577e-4ccc-cff7-49a929fc746a"
      },
      "source": [
        "A[np.array([\n",
        "            [True, False, True],\n",
        "            [False, True, False],\n",
        "            [True, False, True]\n",
        "]\n",
        "    )]"
      ],
      "execution_count": 22,
      "outputs": [
        {
          "output_type": "execute_result",
          "data": {
            "text/plain": [
              "array([75, 10, 55, 95, 24])"
            ]
          },
          "metadata": {
            "tags": []
          },
          "execution_count": 22
        }
      ]
    },
    {
      "cell_type": "code",
      "metadata": {
        "colab": {
          "base_uri": "https://localhost:8080/"
        },
        "id": "OD4ZiJrVXCnw",
        "outputId": "b5ac97f7-5384-4b7c-911b-4d85b3bc3cc0"
      },
      "source": [
        "A > 30"
      ],
      "execution_count": 23,
      "outputs": [
        {
          "output_type": "execute_result",
          "data": {
            "text/plain": [
              "array([[ True, False, False],\n",
              "       [ True,  True,  True],\n",
              "       [ True, False, False]])"
            ]
          },
          "metadata": {
            "tags": []
          },
          "execution_count": 23
        }
      ]
    },
    {
      "cell_type": "code",
      "metadata": {
        "colab": {
          "base_uri": "https://localhost:8080/"
        },
        "id": "2ROQKHrZXI65",
        "outputId": "3521830c-8cf6-43c0-d23d-166f71190526"
      },
      "source": [
        "A[A > 30]"
      ],
      "execution_count": 24,
      "outputs": [
        {
          "output_type": "execute_result",
          "data": {
            "text/plain": [
              "array([75, 61, 55, 70, 95])"
            ]
          },
          "metadata": {
            "tags": []
          },
          "execution_count": 24
        }
      ]
    },
    {
      "cell_type": "code",
      "metadata": {
        "id": "pdY0vvHpXcaB"
      },
      "source": [
        "#Linear Algebra \n",
        "A = np.array ([\n",
        "               [1, 2, 3],\n",
        "               [4, 5, 6],\n",
        "               [7, 8, 9]\n",
        "])"
      ],
      "execution_count": 28,
      "outputs": []
    },
    {
      "cell_type": "code",
      "metadata": {
        "id": "_abjmjjfZmIm"
      },
      "source": [
        "B = np.array([\n",
        "              [6, 5],\n",
        "              [4, 3],\n",
        "              [2, 1]\n",
        "])"
      ],
      "execution_count": 29,
      "outputs": []
    },
    {
      "cell_type": "code",
      "metadata": {
        "colab": {
          "base_uri": "https://localhost:8080/"
        },
        "id": "uGUb3UMaZ26i",
        "outputId": "3f5c202d-6cfa-45c8-c981-d103fc76f608"
      },
      "source": [
        "A.dot(B)"
      ],
      "execution_count": 30,
      "outputs": [
        {
          "output_type": "execute_result",
          "data": {
            "text/plain": [
              "array([[20, 14],\n",
              "       [56, 41],\n",
              "       [92, 68]])"
            ]
          },
          "metadata": {
            "tags": []
          },
          "execution_count": 30
        }
      ]
    },
    {
      "cell_type": "code",
      "metadata": {
        "colab": {
          "base_uri": "https://localhost:8080/"
        },
        "id": "yTXrjcqNZ-qy",
        "outputId": "a2a7aad9-176c-420a-c585-96c53d2f8224"
      },
      "source": [
        "A @ B"
      ],
      "execution_count": 31,
      "outputs": [
        {
          "output_type": "execute_result",
          "data": {
            "text/plain": [
              "array([[20, 14],\n",
              "       [56, 41],\n",
              "       [92, 68]])"
            ]
          },
          "metadata": {
            "tags": []
          },
          "execution_count": 31
        }
      ]
    },
    {
      "cell_type": "code",
      "metadata": {
        "colab": {
          "base_uri": "https://localhost:8080/"
        },
        "id": "Emri1PVMaAm9",
        "outputId": "5572d443-e31c-4491-bd56-a6c3801e5a23"
      },
      "source": [
        "B.T"
      ],
      "execution_count": 32,
      "outputs": [
        {
          "output_type": "execute_result",
          "data": {
            "text/plain": [
              "array([[6, 4, 2],\n",
              "       [5, 3, 1]])"
            ]
          },
          "metadata": {
            "tags": []
          },
          "execution_count": 32
        }
      ]
    },
    {
      "cell_type": "code",
      "metadata": {
        "colab": {
          "base_uri": "https://localhost:8080/"
        },
        "id": "t0cpwnotaEGP",
        "outputId": "0a3b8a92-12a6-4105-b433-9a3e2c7de842"
      },
      "source": [
        "A"
      ],
      "execution_count": 33,
      "outputs": [
        {
          "output_type": "execute_result",
          "data": {
            "text/plain": [
              "array([[1, 2, 3],\n",
              "       [4, 5, 6],\n",
              "       [7, 8, 9]])"
            ]
          },
          "metadata": {
            "tags": []
          },
          "execution_count": 33
        }
      ]
    },
    {
      "cell_type": "code",
      "metadata": {
        "colab": {
          "base_uri": "https://localhost:8080/"
        },
        "id": "cHFvRs-yaIqn",
        "outputId": "983bd6ee-554b-450f-eed9-ecc1cb0f488a"
      },
      "source": [
        "B.T @ A"
      ],
      "execution_count": 34,
      "outputs": [
        {
          "output_type": "execute_result",
          "data": {
            "text/plain": [
              "array([[36, 48, 60],\n",
              "       [24, 33, 42]])"
            ]
          },
          "metadata": {
            "tags": []
          },
          "execution_count": 34
        }
      ]
    },
    {
      "cell_type": "code",
      "metadata": {
        "colab": {
          "base_uri": "https://localhost:8080/"
        },
        "id": "u1vgxtQKaYTc",
        "outputId": "b427aa8e-9f2e-44ef-8f83-96f210e8697e"
      },
      "source": [
        "#Size of objects in Memory\n",
        "#Int, floats\n",
        "#An integer in Python is > 24bytes\n",
        "sys.getsizeof(1)"
      ],
      "execution_count": 41,
      "outputs": [
        {
          "output_type": "execute_result",
          "data": {
            "text/plain": [
              "28"
            ]
          },
          "metadata": {
            "tags": []
          },
          "execution_count": 41
        }
      ]
    },
    {
      "cell_type": "code",
      "metadata": {
        "colab": {
          "base_uri": "https://localhost:8080/"
        },
        "id": "NeDaHps0a8-4",
        "outputId": "e761f4c7-233b-4caf-96a4-52ab44e34c31"
      },
      "source": [
        "#Longs are even larger\n",
        "sys.getsizeof(10 ** 100)"
      ],
      "execution_count": 39,
      "outputs": [
        {
          "output_type": "execute_result",
          "data": {
            "text/plain": [
              "72"
            ]
          },
          "metadata": {
            "tags": []
          },
          "execution_count": 39
        }
      ]
    },
    {
      "cell_type": "code",
      "metadata": {
        "colab": {
          "base_uri": "https://localhost:8080/"
        },
        "id": "KqaDJFyjbIAH",
        "outputId": "01c7d496-dab5-43e7-e1ab-038a03ea02c6"
      },
      "source": [
        "#Numpy size is much smaller\n",
        "np.dtype(np.int8).itemsize"
      ],
      "execution_count": 44,
      "outputs": [
        {
          "output_type": "execute_result",
          "data": {
            "text/plain": [
              "1"
            ]
          },
          "metadata": {
            "tags": []
          },
          "execution_count": 44
        }
      ]
    },
    {
      "cell_type": "code",
      "metadata": {
        "colab": {
          "base_uri": "https://localhost:8080/"
        },
        "id": "ihfCeVM5bcZL",
        "outputId": "1697e8e1-cbaa-4ba2-d524-5db8d2fb30f8"
      },
      "source": [
        "np.dtype(float).itemsize"
      ],
      "execution_count": 42,
      "outputs": [
        {
          "output_type": "execute_result",
          "data": {
            "text/plain": [
              "8"
            ]
          },
          "metadata": {
            "tags": []
          },
          "execution_count": 42
        }
      ]
    },
    {
      "cell_type": "code",
      "metadata": {
        "colab": {
          "base_uri": "https://localhost:8080/"
        },
        "id": "SvY3vP_wbebD",
        "outputId": "50d7971d-b1c7-47e9-b9c2-d4259d13a3fb"
      },
      "source": [
        "#Lists are even larger\n",
        "#A one-element List\n",
        "sys.getsizeof(1)"
      ],
      "execution_count": 43,
      "outputs": [
        {
          "output_type": "execute_result",
          "data": {
            "text/plain": [
              "28"
            ]
          },
          "metadata": {
            "tags": []
          },
          "execution_count": 43
        }
      ]
    },
    {
      "cell_type": "code",
      "metadata": {
        "colab": {
          "base_uri": "https://localhost:8080/"
        },
        "id": "ww6gko1wbyUx",
        "outputId": "0f95ca10-9516-4e8f-bfac-9c039c07b5d0"
      },
      "source": [
        "#An array of one element is numpy\n",
        "np.array([1]).nbytes"
      ],
      "execution_count": 45,
      "outputs": [
        {
          "output_type": "execute_result",
          "data": {
            "text/plain": [
              "8"
            ]
          },
          "metadata": {
            "tags": []
          },
          "execution_count": 45
        }
      ]
    },
    {
      "cell_type": "code",
      "metadata": {
        "id": "fYblub7ScCAV"
      },
      "source": [
        "#And performance is also important\n",
        "l = list(range(100000))"
      ],
      "execution_count": 53,
      "outputs": []
    },
    {
      "cell_type": "code",
      "metadata": {
        "id": "fetgIThJcidV"
      },
      "source": [
        "a =np.arange(100000)"
      ],
      "execution_count": 54,
      "outputs": []
    },
    {
      "cell_type": "code",
      "metadata": {
        "colab": {
          "base_uri": "https://localhost:8080/"
        },
        "id": "2JLsZfGldPlX",
        "outputId": "72f96e17-aff3-4a78-cba3-9cecec23a0f2"
      },
      "source": [
        "%time np.sum( a ** 2)"
      ],
      "execution_count": 55,
      "outputs": [
        {
          "output_type": "stream",
          "text": [
            "CPU times: user 1.15 ms, sys: 844 µs, total: 2 ms\n",
            "Wall time: 2.15 ms\n"
          ],
          "name": "stdout"
        },
        {
          "output_type": "execute_result",
          "data": {
            "text/plain": [
              "333328333350000"
            ]
          },
          "metadata": {
            "tags": []
          },
          "execution_count": 55
        }
      ]
    },
    {
      "cell_type": "code",
      "metadata": {
        "colab": {
          "base_uri": "https://localhost:8080/"
        },
        "id": "OoeMUu_fcxwq",
        "outputId": "23c8519b-5055-4f6c-d688-a11c66a60a0c"
      },
      "source": [
        "%time sum ([x ** 2 for x in l])"
      ],
      "execution_count": 56,
      "outputs": [
        {
          "output_type": "stream",
          "text": [
            "CPU times: user 37.5 ms, sys: 4.97 ms, total: 42.5 ms\n",
            "Wall time: 42.8 ms\n"
          ],
          "name": "stdout"
        },
        {
          "output_type": "execute_result",
          "data": {
            "text/plain": [
              "333328333350000"
            ]
          },
          "metadata": {
            "tags": []
          },
          "execution_count": 56
        }
      ]
    },
    {
      "cell_type": "code",
      "metadata": {
        "colab": {
          "base_uri": "https://localhost:8080/"
        },
        "id": "3fBcqpQtd3JE",
        "outputId": "78144861-1b6f-44d0-ce20-cf84cb25e061"
      },
      "source": [
        "#Useful Numpy functions\n",
        "#random\n",
        "np.random.random(size=2)"
      ],
      "execution_count": 57,
      "outputs": [
        {
          "output_type": "execute_result",
          "data": {
            "text/plain": [
              "array([0.46005636, 0.05264566])"
            ]
          },
          "metadata": {
            "tags": []
          },
          "execution_count": 57
        }
      ]
    },
    {
      "cell_type": "code",
      "metadata": {
        "colab": {
          "base_uri": "https://localhost:8080/"
        },
        "id": "jhv4mhyWeWHp",
        "outputId": "bffdaa4b-43de-47a1-b463-b2dc9da805a8"
      },
      "source": [
        "np.random.normal(size=2)"
      ],
      "execution_count": 58,
      "outputs": [
        {
          "output_type": "execute_result",
          "data": {
            "text/plain": [
              "array([ 0.7040023 , -0.87779268])"
            ]
          },
          "metadata": {
            "tags": []
          },
          "execution_count": 58
        }
      ]
    },
    {
      "cell_type": "code",
      "metadata": {
        "colab": {
          "base_uri": "https://localhost:8080/"
        },
        "id": "yy9DO35DebCO",
        "outputId": "54c9ab53-49e1-44be-f6bb-69e7ac74f23c"
      },
      "source": [
        "np.random.rand(2, 4)"
      ],
      "execution_count": 59,
      "outputs": [
        {
          "output_type": "execute_result",
          "data": {
            "text/plain": [
              "array([[0.44372423, 0.80883369, 0.86599501, 0.4422873 ],\n",
              "       [0.37939399, 0.03575833, 0.4122063 , 0.88400621]])"
            ]
          },
          "metadata": {
            "tags": []
          },
          "execution_count": 59
        }
      ]
    },
    {
      "cell_type": "code",
      "metadata": {
        "colab": {
          "base_uri": "https://localhost:8080/"
        },
        "id": "Dy3UgvjkefQI",
        "outputId": "12fe7b7d-8a31-43a6-a191-ee0d5d856e86"
      },
      "source": [
        "#arange\n",
        "np.arange(10)"
      ],
      "execution_count": 60,
      "outputs": [
        {
          "output_type": "execute_result",
          "data": {
            "text/plain": [
              "array([0, 1, 2, 3, 4, 5, 6, 7, 8, 9])"
            ]
          },
          "metadata": {
            "tags": []
          },
          "execution_count": 60
        }
      ]
    },
    {
      "cell_type": "code",
      "metadata": {
        "colab": {
          "base_uri": "https://localhost:8080/"
        },
        "id": "elY_05j2e5u5",
        "outputId": "67a297dd-fa92-49e7-897a-6caa0728ed91"
      },
      "source": [
        "np.arange(5, 10)"
      ],
      "execution_count": 61,
      "outputs": [
        {
          "output_type": "execute_result",
          "data": {
            "text/plain": [
              "array([5, 6, 7, 8, 9])"
            ]
          },
          "metadata": {
            "tags": []
          },
          "execution_count": 61
        }
      ]
    },
    {
      "cell_type": "code",
      "metadata": {
        "colab": {
          "base_uri": "https://localhost:8080/"
        },
        "id": "JbiDuJQ4exfv",
        "outputId": "de07072c-f9f0-4266-84a2-e79a5c7ed365"
      },
      "source": [
        "np.arange(0, 1, .1)"
      ],
      "execution_count": 27,
      "outputs": [
        {
          "output_type": "execute_result",
          "data": {
            "text/plain": [
              "array([0. , 0.1, 0.2, 0.3, 0.4, 0.5, 0.6, 0.7, 0.8, 0.9])"
            ]
          },
          "metadata": {
            "tags": []
          },
          "execution_count": 27
        }
      ]
    },
    {
      "cell_type": "code",
      "metadata": {
        "colab": {
          "base_uri": "https://localhost:8080/"
        },
        "id": "iStuQAOde87R",
        "outputId": "db1faebe-9363-40de-d9ac-1d3eeb4adf02"
      },
      "source": [
        "#reshape\n",
        "np.arange(10).reshape(2,5)"
      ],
      "execution_count": 62,
      "outputs": [
        {
          "output_type": "execute_result",
          "data": {
            "text/plain": [
              "array([[0, 1, 2, 3, 4],\n",
              "       [5, 6, 7, 8, 9]])"
            ]
          },
          "metadata": {
            "tags": []
          },
          "execution_count": 62
        }
      ]
    },
    {
      "cell_type": "code",
      "metadata": {
        "colab": {
          "base_uri": "https://localhost:8080/"
        },
        "id": "dRNImNTqfkeY",
        "outputId": "b7c330e5-d1da-4784-a0cf-3067bf405abc"
      },
      "source": [
        "np.arange(10).reshape(5,2)"
      ],
      "execution_count": 63,
      "outputs": [
        {
          "output_type": "execute_result",
          "data": {
            "text/plain": [
              "array([[0, 1],\n",
              "       [2, 3],\n",
              "       [4, 5],\n",
              "       [6, 7],\n",
              "       [8, 9]])"
            ]
          },
          "metadata": {
            "tags": []
          },
          "execution_count": 63
        }
      ]
    },
    {
      "cell_type": "code",
      "metadata": {
        "colab": {
          "base_uri": "https://localhost:8080/"
        },
        "id": "ox_3PhT7fKOv",
        "outputId": "036b38f1-fb67-4f91-a1e0-268c94ff0904"
      },
      "source": [
        "#linspace\n",
        "np.linspace(0,1,5)"
      ],
      "execution_count": 65,
      "outputs": [
        {
          "output_type": "execute_result",
          "data": {
            "text/plain": [
              "array([0.  , 0.25, 0.5 , 0.75, 1.  ])"
            ]
          },
          "metadata": {
            "tags": []
          },
          "execution_count": 65
        }
      ]
    },
    {
      "cell_type": "code",
      "metadata": {
        "colab": {
          "base_uri": "https://localhost:8080/"
        },
        "id": "tdMtxIbugSqO",
        "outputId": "8025ca5a-d1b7-4296-c6f6-8b0b3fa22724"
      },
      "source": [
        "np.linspace(0,1,20)"
      ],
      "execution_count": 66,
      "outputs": [
        {
          "output_type": "execute_result",
          "data": {
            "text/plain": [
              "array([0.        , 0.05263158, 0.10526316, 0.15789474, 0.21052632,\n",
              "       0.26315789, 0.31578947, 0.36842105, 0.42105263, 0.47368421,\n",
              "       0.52631579, 0.57894737, 0.63157895, 0.68421053, 0.73684211,\n",
              "       0.78947368, 0.84210526, 0.89473684, 0.94736842, 1.        ])"
            ]
          },
          "metadata": {
            "tags": []
          },
          "execution_count": 66
        }
      ]
    },
    {
      "cell_type": "code",
      "metadata": {
        "colab": {
          "base_uri": "https://localhost:8080/"
        },
        "id": "U9HKuurygVj8",
        "outputId": "4885a042-6c70-47c5-d14b-a3e85c9b243d"
      },
      "source": [
        "np.linspace(0,1,20, False)"
      ],
      "execution_count": 68,
      "outputs": [
        {
          "output_type": "execute_result",
          "data": {
            "text/plain": [
              "array([0.  , 0.05, 0.1 , 0.15, 0.2 , 0.25, 0.3 , 0.35, 0.4 , 0.45, 0.5 ,\n",
              "       0.55, 0.6 , 0.65, 0.7 , 0.75, 0.8 , 0.85, 0.9 , 0.95])"
            ]
          },
          "metadata": {
            "tags": []
          },
          "execution_count": 68
        }
      ]
    },
    {
      "cell_type": "code",
      "metadata": {
        "colab": {
          "base_uri": "https://localhost:8080/"
        },
        "id": "h8a6bt-ogb0N",
        "outputId": "0d9e9bab-568c-4ea6-b813-3cf4c7ab2147"
      },
      "source": [
        "#zeros, ones, empty\n",
        "np.zeros(5)"
      ],
      "execution_count": 69,
      "outputs": [
        {
          "output_type": "execute_result",
          "data": {
            "text/plain": [
              "array([0., 0., 0., 0., 0.])"
            ]
          },
          "metadata": {
            "tags": []
          },
          "execution_count": 69
        }
      ]
    },
    {
      "cell_type": "code",
      "metadata": {
        "colab": {
          "base_uri": "https://localhost:8080/"
        },
        "id": "UOIfaCclgnqG",
        "outputId": "f13f152c-b87b-4c65-beb5-140f0620686b"
      },
      "source": [
        "np.zeros((3, 3))"
      ],
      "execution_count": 70,
      "outputs": [
        {
          "output_type": "execute_result",
          "data": {
            "text/plain": [
              "array([[0., 0., 0.],\n",
              "       [0., 0., 0.],\n",
              "       [0., 0., 0.]])"
            ]
          },
          "metadata": {
            "tags": []
          },
          "execution_count": 70
        }
      ]
    },
    {
      "cell_type": "code",
      "metadata": {
        "colab": {
          "base_uri": "https://localhost:8080/"
        },
        "id": "LuoS_niMgwEE",
        "outputId": "54672eb3-39d8-4089-b3ac-d7a7d2e683fd"
      },
      "source": [
        "np.zeros((3, 3), dtype=np.int)"
      ],
      "execution_count": 72,
      "outputs": [
        {
          "output_type": "execute_result",
          "data": {
            "text/plain": [
              "array([[0, 0, 0],\n",
              "       [0, 0, 0],\n",
              "       [0, 0, 0]])"
            ]
          },
          "metadata": {
            "tags": []
          },
          "execution_count": 72
        }
      ]
    },
    {
      "cell_type": "code",
      "metadata": {
        "colab": {
          "base_uri": "https://localhost:8080/"
        },
        "id": "RECYviDrg6D9",
        "outputId": "dcc7da28-01a2-48a5-ed28-f05bcee50694"
      },
      "source": [
        "np.ones(5)"
      ],
      "execution_count": 73,
      "outputs": [
        {
          "output_type": "execute_result",
          "data": {
            "text/plain": [
              "array([1., 1., 1., 1., 1.])"
            ]
          },
          "metadata": {
            "tags": []
          },
          "execution_count": 73
        }
      ]
    },
    {
      "cell_type": "code",
      "metadata": {
        "colab": {
          "base_uri": "https://localhost:8080/"
        },
        "id": "3b8bDr_Zg8Xx",
        "outputId": "35cd0d3e-61a2-40a8-c557-42eec1485f4d"
      },
      "source": [
        "np.ones((3, 3))"
      ],
      "execution_count": 74,
      "outputs": [
        {
          "output_type": "execute_result",
          "data": {
            "text/plain": [
              "array([[1., 1., 1.],\n",
              "       [1., 1., 1.],\n",
              "       [1., 1., 1.]])"
            ]
          },
          "metadata": {
            "tags": []
          },
          "execution_count": 74
        }
      ]
    },
    {
      "cell_type": "code",
      "metadata": {
        "colab": {
          "base_uri": "https://localhost:8080/"
        },
        "id": "UlcpFPQshBt2",
        "outputId": "f9a3fac7-0d37-4292-a127-5c9f31cd84a2"
      },
      "source": [
        "np.empty(5)"
      ],
      "execution_count": 75,
      "outputs": [
        {
          "output_type": "execute_result",
          "data": {
            "text/plain": [
              "array([1., 1., 1., 1., 1.])"
            ]
          },
          "metadata": {
            "tags": []
          },
          "execution_count": 75
        }
      ]
    },
    {
      "cell_type": "code",
      "metadata": {
        "colab": {
          "base_uri": "https://localhost:8080/"
        },
        "id": "xYdl0verhIdl",
        "outputId": "f023a1af-24cb-499d-ca08-51ec2cc8092e"
      },
      "source": [
        "np.empty((2, 2))"
      ],
      "execution_count": 78,
      "outputs": [
        {
          "output_type": "execute_result",
          "data": {
            "text/plain": [
              "array([[0.25, 0.5 ],\n",
              "       [0.75, 1.  ]])"
            ]
          },
          "metadata": {
            "tags": []
          },
          "execution_count": 78
        }
      ]
    },
    {
      "cell_type": "code",
      "metadata": {
        "colab": {
          "base_uri": "https://localhost:8080/"
        },
        "id": "3CwYTvWvhN_t",
        "outputId": "bd36ccce-6714-493c-d25b-98d03c153f5d"
      },
      "source": [
        "#identity and eye\n",
        "np.identity(3)"
      ],
      "execution_count": 79,
      "outputs": [
        {
          "output_type": "execute_result",
          "data": {
            "text/plain": [
              "array([[1., 0., 0.],\n",
              "       [0., 1., 0.],\n",
              "       [0., 0., 1.]])"
            ]
          },
          "metadata": {
            "tags": []
          },
          "execution_count": 79
        }
      ]
    },
    {
      "cell_type": "code",
      "metadata": {
        "colab": {
          "base_uri": "https://localhost:8080/"
        },
        "id": "SjjkxmIYhUie",
        "outputId": "a2012692-9b18-4e9d-abd5-efdb66393438"
      },
      "source": [
        "np.eye(3, 3)"
      ],
      "execution_count": 80,
      "outputs": [
        {
          "output_type": "execute_result",
          "data": {
            "text/plain": [
              "array([[1., 0., 0.],\n",
              "       [0., 1., 0.],\n",
              "       [0., 0., 1.]])"
            ]
          },
          "metadata": {
            "tags": []
          },
          "execution_count": 80
        }
      ]
    },
    {
      "cell_type": "code",
      "metadata": {
        "colab": {
          "base_uri": "https://localhost:8080/"
        },
        "id": "NJYOiwzbhbGn",
        "outputId": "4a942f4c-e941-4bfb-a59d-d5fd42e34eb8"
      },
      "source": [
        "np.eye(8, 4)"
      ],
      "execution_count": 81,
      "outputs": [
        {
          "output_type": "execute_result",
          "data": {
            "text/plain": [
              "array([[1., 0., 0., 0.],\n",
              "       [0., 1., 0., 0.],\n",
              "       [0., 0., 1., 0.],\n",
              "       [0., 0., 0., 1.],\n",
              "       [0., 0., 0., 0.],\n",
              "       [0., 0., 0., 0.],\n",
              "       [0., 0., 0., 0.],\n",
              "       [0., 0., 0., 0.]])"
            ]
          },
          "metadata": {
            "tags": []
          },
          "execution_count": 81
        }
      ]
    },
    {
      "cell_type": "code",
      "metadata": {
        "colab": {
          "base_uri": "https://localhost:8080/"
        },
        "id": "Agd8t6JOhdTx",
        "outputId": "836971d8-eea2-4208-f064-004c0fa9bf1f"
      },
      "source": [
        "np.eye(8, 4, k=1)"
      ],
      "execution_count": 82,
      "outputs": [
        {
          "output_type": "execute_result",
          "data": {
            "text/plain": [
              "array([[0., 1., 0., 0.],\n",
              "       [0., 0., 1., 0.],\n",
              "       [0., 0., 0., 1.],\n",
              "       [0., 0., 0., 0.],\n",
              "       [0., 0., 0., 0.],\n",
              "       [0., 0., 0., 0.],\n",
              "       [0., 0., 0., 0.],\n",
              "       [0., 0., 0., 0.]])"
            ]
          },
          "metadata": {
            "tags": []
          },
          "execution_count": 82
        }
      ]
    },
    {
      "cell_type": "code",
      "metadata": {
        "colab": {
          "base_uri": "https://localhost:8080/"
        },
        "id": "mxo4mgCihk8I",
        "outputId": "d76d6bc5-6429-4dc9-dfe7-836bb48f1af4"
      },
      "source": [
        "np.eye(8, 4, k=3)"
      ],
      "execution_count": 83,
      "outputs": [
        {
          "output_type": "execute_result",
          "data": {
            "text/plain": [
              "array([[0., 0., 0., 1.],\n",
              "       [0., 0., 0., 0.],\n",
              "       [0., 0., 0., 0.],\n",
              "       [0., 0., 0., 0.],\n",
              "       [0., 0., 0., 0.],\n",
              "       [0., 0., 0., 0.],\n",
              "       [0., 0., 0., 0.],\n",
              "       [0., 0., 0., 0.]])"
            ]
          },
          "metadata": {
            "tags": []
          },
          "execution_count": 83
        }
      ]
    },
    {
      "cell_type": "code",
      "metadata": {
        "colab": {
          "base_uri": "https://localhost:8080/",
          "height": 35
        },
        "id": "z2ObdvKGhmoL",
        "outputId": "d753dfba-4df6-452f-cacc-ed08bf266654"
      },
      "source": [
        "\"Hello World\"[6]"
      ],
      "execution_count": 84,
      "outputs": [
        {
          "output_type": "execute_result",
          "data": {
            "application/vnd.google.colaboratory.intrinsic+json": {
              "type": "string"
            },
            "text/plain": [
              "'W'"
            ]
          },
          "metadata": {
            "tags": []
          },
          "execution_count": 84
        }
      ]
    }
  ]
}