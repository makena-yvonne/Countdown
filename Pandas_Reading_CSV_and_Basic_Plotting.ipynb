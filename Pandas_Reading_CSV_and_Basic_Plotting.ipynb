{
  "nbformat": 4,
  "nbformat_minor": 0,
  "metadata": {
    "colab": {
      "name": "Pandas - Reading CSV and Basic Plotting.ipynb",
      "provenance": [],
      "authorship_tag": "ABX9TyOJJsyYuShrvYQ2XUGjWugP",
      "include_colab_link": true
    },
    "kernelspec": {
      "name": "python3",
      "display_name": "Python 3"
    },
    "language_info": {
      "name": "python"
    }
  },
  "cells": [
    {
      "cell_type": "markdown",
      "metadata": {
        "id": "view-in-github",
        "colab_type": "text"
      },
      "source": [
        "<a href=\"https://colab.research.google.com/github/makena-yvonne/Countdown/blob/master/Pandas_Reading_CSV_and_Basic_Plotting.ipynb\" target=\"_parent\"><img src=\"https://colab.research.google.com/assets/colab-badge.svg\" alt=\"Open In Colab\"/></a>"
      ]
    },
    {
      "cell_type": "code",
      "metadata": {
        "id": "qEZGXx3ge6w3"
      },
      "source": [
        "import numpy as np\n",
        "import pandas as pd\n",
        "import matplotlib.pyplot as plt\n",
        "\n",
        "%matplotlib inline"
      ],
      "execution_count": null,
      "outputs": []
    },
    {
      "cell_type": "markdown",
      "metadata": {
        "id": "uHm0f7kdfR1d"
      },
      "source": [
        "Pandas can easily read data stored in different file formats like CSV, JSON, XML or even Excel. Parsing always involves specifying the correct structure, encoding and other details. The read_csv method reads CSV files and accepts many parameters."
      ]
    },
    {
      "cell_type": "code",
      "metadata": {
        "id": "_rXxo1BBfUQw"
      },
      "source": [
        "pd.read_csv?"
      ],
      "execution_count": null,
      "outputs": []
    },
    {
      "cell_type": "code",
      "metadata": {
        "id": "l8VqDpkEfWEF"
      },
      "source": [
        "df = pd.read_csv('data/btc-market-price.csv')"
      ],
      "execution_count": null,
      "outputs": []
    },
    {
      "cell_type": "code",
      "metadata": {
        "id": "Y-ah9R6Ofavo"
      },
      "source": [
        "df.head()"
      ],
      "execution_count": null,
      "outputs": []
    },
    {
      "cell_type": "markdown",
      "metadata": {
        "id": "ARCgPyFAfbrY"
      },
      "source": [
        "The CSV file we're reading has only two columns: timestamp and price. It doesn't have a header, it contains whitespaces and has values separated by commas. pandas automatically assigned the first row of data as headers, which is incorrect. We can overwrite this behavior with the header parameter:"
      ]
    },
    {
      "cell_type": "code",
      "metadata": {
        "id": "sXeS_wtnffzx"
      },
      "source": [
        "df = pd.read_csv('data/btc-market-price.csv', header=None)"
      ],
      "execution_count": null,
      "outputs": []
    },
    {
      "cell_type": "code",
      "metadata": {
        "id": "cV4l_6VWfgkI"
      },
      "source": [
        "df.head()"
      ],
      "execution_count": null,
      "outputs": []
    },
    {
      "cell_type": "markdown",
      "metadata": {
        "id": "7KSFODNafi8g"
      },
      "source": [
        "We can then set the names of each column explicitely by setting the df.columns attribute:"
      ]
    },
    {
      "cell_type": "code",
      "metadata": {
        "id": "ZM3JPn0ffije"
      },
      "source": [
        "df.columns = ['Timestamp', 'Price']"
      ],
      "execution_count": null,
      "outputs": []
    },
    {
      "cell_type": "code",
      "metadata": {
        "id": "WcrtTp5Rfo2s"
      },
      "source": [
        "df.shape"
      ],
      "execution_count": null,
      "outputs": []
    },
    {
      "cell_type": "code",
      "metadata": {
        "id": "S7yIulatfqk2"
      },
      "source": [
        "df.head()"
      ],
      "execution_count": null,
      "outputs": []
    },
    {
      "cell_type": "code",
      "metadata": {
        "id": "wYcNVoaeftEu"
      },
      "source": [
        "df.tail(3)"
      ],
      "execution_count": null,
      "outputs": []
    },
    {
      "cell_type": "markdown",
      "metadata": {
        "id": "8znce5nsfwrQ"
      },
      "source": [
        "The type of the Price column was correctly interpreted as float, but the Timestamp was interpreted as a regular string (object in pandas notation):"
      ]
    },
    {
      "cell_type": "code",
      "metadata": {
        "id": "pVHBiYLGfynW"
      },
      "source": [
        "df.dtypes"
      ],
      "execution_count": null,
      "outputs": []
    },
    {
      "cell_type": "markdown",
      "metadata": {
        "id": "5_3I3iwKf0vm"
      },
      "source": [
        "We can perform a vectorized operation to parse all the Timestamp values as Datetime objects:"
      ]
    },
    {
      "cell_type": "code",
      "metadata": {
        "id": "BpUuLxFRf3SI"
      },
      "source": [
        "pd.to_datetime(df['Timestamp']).head()"
      ],
      "execution_count": null,
      "outputs": []
    },
    {
      "cell_type": "code",
      "metadata": {
        "id": "3kR2r-Uvf59c"
      },
      "source": [
        "df['Timestamp'] = pd.to_datetime(df['Timestamp'])"
      ],
      "execution_count": null,
      "outputs": []
    },
    {
      "cell_type": "code",
      "metadata": {
        "id": "Lz3dA6qOf8MD"
      },
      "source": [
        "df.head()"
      ],
      "execution_count": null,
      "outputs": []
    },
    {
      "cell_type": "code",
      "metadata": {
        "id": "1uZpCawGgADu"
      },
      "source": [
        "df.dtypes"
      ],
      "execution_count": null,
      "outputs": []
    },
    {
      "cell_type": "markdown",
      "metadata": {
        "id": "5cMkJ2RYgA4Y"
      },
      "source": [
        "The timestamp looks a lot like the index of this DataFrame: date > price. We can change the autoincremental ID generated by pandas and use the Timestamp DS column as the Index:"
      ]
    },
    {
      "cell_type": "code",
      "metadata": {
        "id": "ClqCJhxKgC5l"
      },
      "source": [
        "df.set_index('Timestamp', inplace=True)"
      ],
      "execution_count": null,
      "outputs": []
    },
    {
      "cell_type": "code",
      "metadata": {
        "id": "l0eKGzhigFCq"
      },
      "source": [
        "df.head()"
      ],
      "execution_count": null,
      "outputs": []
    },
    {
      "cell_type": "code",
      "metadata": {
        "id": "2Cu5nWb6gGzI"
      },
      "source": [
        "df.loc['2017-09-29']"
      ],
      "execution_count": null,
      "outputs": []
    },
    {
      "cell_type": "markdown",
      "metadata": {
        "id": "zFnJRyvtgK5P"
      },
      "source": [
        "**Putting everything together**\n",
        "\n",
        "And now, we've finally arrived to the final, desired version of the DataFrame parsed from our CSV file. The steps were:"
      ]
    },
    {
      "cell_type": "code",
      "metadata": {
        "id": "aQNGiJdCgN8U"
      },
      "source": [
        "df = pd.read_csv('data/btc-market-price.csv', header=None)\n",
        "df.columns = ['Timestamp', 'Price']\n",
        "df['Timestamp'] = pd.to_datetime(df['Timestamp'])\n",
        "df.set_index('Timestamp', inplace=True)"
      ],
      "execution_count": null,
      "outputs": []
    },
    {
      "cell_type": "code",
      "metadata": {
        "id": "JfzVgh7WgQCB"
      },
      "source": [
        "df.head()"
      ],
      "execution_count": null,
      "outputs": []
    },
    {
      "cell_type": "markdown",
      "metadata": {
        "id": "hGYCjSDEgS9r"
      },
      "source": [
        "**There should be a better way.** And there is 😎. And there usually is, explicitly with all these repetitive tasks with pandas.\n",
        "\n",
        "The read_csv function is extremely powerful and you can specify many more parameters at import time. We can achive the same results with only one line by doing:"
      ]
    },
    {
      "cell_type": "code",
      "metadata": {
        "id": "XTq3D1_zgXl1"
      },
      "source": [
        "df = pd.read_csv(\n",
        "    'data/btc-market-price.csv',\n",
        "    header=None,\n",
        "    names=['Timestamp', 'Price'],\n",
        "    index_col=0,\n",
        "    parse_dates=True\n",
        ")"
      ],
      "execution_count": null,
      "outputs": []
    },
    {
      "cell_type": "code",
      "metadata": {
        "id": "PA--2cfAgaU2"
      },
      "source": [
        "df.head()"
      ],
      "execution_count": null,
      "outputs": []
    },
    {
      "cell_type": "code",
      "metadata": {
        "id": "zqka3b5fgcVo"
      },
      "source": [
        "df.loc['2017-09-29']"
      ],
      "execution_count": null,
      "outputs": []
    },
    {
      "cell_type": "markdown",
      "metadata": {
        "id": "E_rcII4lggxe"
      },
      "source": [
        "**Plotting basics**\n",
        "\n",
        "pandas integrates with Matplotlib and creating a plot is as simple as:"
      ]
    },
    {
      "cell_type": "code",
      "metadata": {
        "id": "72VL-oa2kfiN"
      },
      "source": [
        "df.plot()"
      ],
      "execution_count": null,
      "outputs": []
    },
    {
      "cell_type": "markdown",
      "metadata": {
        "id": "CKOB6Nookh9H"
      },
      "source": [
        "Behind the scenes, it's using matplotlib.pyplot's interface. We can create a similar plot with the plt.plot() function:"
      ]
    },
    {
      "cell_type": "code",
      "metadata": {
        "id": "0E6lgCPHkjvP"
      },
      "source": [
        "plt.plot(df.index, df['Price'])"
      ],
      "execution_count": null,
      "outputs": []
    },
    {
      "cell_type": "markdown",
      "metadata": {
        "id": "R6hrZK5kknW7"
      },
      "source": [
        "plt.plot() accepts many parameters, but the first two ones are the most important ones: the values for the X and Y axes. Another example:"
      ]
    },
    {
      "cell_type": "code",
      "metadata": {
        "id": "f4gG4o-tkpKC"
      },
      "source": [
        "x = np.arange(-10, 11)"
      ],
      "execution_count": null,
      "outputs": []
    },
    {
      "cell_type": "code",
      "metadata": {
        "id": "IZMxA0LZkrNq"
      },
      "source": [
        "plt.plot(x, x ** 2)"
      ],
      "execution_count": null,
      "outputs": []
    },
    {
      "cell_type": "markdown",
      "metadata": {
        "id": "CmqaiGtzkt2W"
      },
      "source": [
        "We're using matplotlib's global API, which is horrible but it's the most popular one. We'll learn later how to use the OOP API which will make our work much easier."
      ]
    },
    {
      "cell_type": "code",
      "metadata": {
        "id": "tjcryPkGkv1c"
      },
      "source": [
        "plt.plot(x, x ** 2)\n",
        "plt.plot(x, -1 * (x ** 2))"
      ],
      "execution_count": null,
      "outputs": []
    },
    {
      "cell_type": "markdown",
      "metadata": {
        "id": "5dJQmURrkyvK"
      },
      "source": [
        "Each plt function alters the global state. If you want to set settings of your plot you can use the plt.figure function. Others like plt.title keep altering the global plot:"
      ]
    },
    {
      "cell_type": "code",
      "metadata": {
        "id": "aFEytphKk0oY"
      },
      "source": [
        "plt.figure(figsize=(12, 6))\n",
        "plt.plot(x, x ** 2)\n",
        "plt.plot(x, -1 * (x ** 2))\n",
        "\n",
        "plt.title('My Nice Plot')"
      ],
      "execution_count": null,
      "outputs": []
    },
    {
      "cell_type": "markdown",
      "metadata": {
        "id": "Xrhwbj4Bk350"
      },
      "source": [
        "Some of the arguments in plt.figure and plt.plot are available in the pandas' plot interface:"
      ]
    },
    {
      "cell_type": "code",
      "metadata": {
        "id": "pYCW5Xnek53J"
      },
      "source": [
        "df.plot(figsize=(16, 9), title='Bitcoin Price 2017-2018')"
      ],
      "execution_count": null,
      "outputs": []
    },
    {
      "cell_type": "markdown",
      "metadata": {
        "id": "oNSSLzjuk9o3"
      },
      "source": [
        "**A more challenging parsing**\n",
        "\n",
        "To demonstrate plotting two columns together, we'll try to add Ether prices to our df DataFrame. The ETH prices data can be found in the data/eth-price.csv file. The problem is that it seems like that CSV file was created by someone who really hated programmers. Take a look at it and see how ugly it looks like. We'll still use pandas to parse it."
      ]
    },
    {
      "cell_type": "code",
      "metadata": {
        "id": "OV2ra5PBlBWO"
      },
      "source": [
        "eth = pd.read_csv('data/eth-price.csv')\n",
        "\n",
        "eth.head()"
      ],
      "execution_count": null,
      "outputs": []
    },
    {
      "cell_type": "markdown",
      "metadata": {
        "id": "jw-bj0XQlD9F"
      },
      "source": [
        "As you can see, it has a Value column (which represents the price), a Date(UTC) one that has a string representing dates and also a UnixTimeStamp date represeting the datetime in unix timestamp format. The header is read automatically, let's try to parse dates with the CSV Reader:"
      ]
    },
    {
      "cell_type": "code",
      "metadata": {
        "id": "1lP8vDIzlDiH"
      },
      "source": [
        "eth = pd.read_csv('data/eth-price.csv', parse_dates=True)\n",
        "\n",
        "print(eth.dtypes)\n",
        "eth.head()"
      ],
      "execution_count": null,
      "outputs": []
    },
    {
      "cell_type": "markdown",
      "metadata": {
        "id": "p5Zf5CWelM1m"
      },
      "source": [
        "Seems like the parse_dates attribute didn't work. We'll need to add a little bit more customization. Let's divide this problem and focus on the problem of \"date parsing\" first. The simplest option would be to use the UnixTimeStamp column. The pandas module has a to_datetime function that converts Unix timestamps to Datetime objects automatically:"
      ]
    },
    {
      "cell_type": "code",
      "metadata": {
        "id": "hAHi4Bf8lPbT"
      },
      "source": [
        "pd.to_datetime(eth['UnixTimeStamp']).head()"
      ],
      "execution_count": null,
      "outputs": []
    },
    {
      "cell_type": "markdown",
      "metadata": {
        "id": "xl53C3KhlTJw"
      },
      "source": [
        "The problem is the precision of unix timestamps. To match both columns we'll need to use the same index and, our df containing Bitcoin prices, is \"per day\":"
      ]
    },
    {
      "cell_type": "code",
      "metadata": {
        "id": "bJkz2FAClWx7"
      },
      "source": [
        "df.head()"
      ],
      "execution_count": null,
      "outputs": []
    },
    {
      "cell_type": "markdown",
      "metadata": {
        "id": "WAmwWbZ3lY8M"
      },
      "source": [
        "We could either, remove the precision of UnixTimeStamp or attempt to parse the Date(UTC). Let's do String parsing of Date(UTC) for fun:"
      ]
    },
    {
      "cell_type": "code",
      "metadata": {
        "id": "zverOwqKlb4Q"
      },
      "source": [
        "pd.to_datetime(eth['Date(UTC)']).head()"
      ],
      "execution_count": null,
      "outputs": []
    },
    {
      "cell_type": "markdown",
      "metadata": {
        "id": "6E5BKbnlle3Q"
      },
      "source": [
        "That seems to work fine! Why isn't it then parsing the Date(UTC) column? Simple, the parse_dates=True parameter will instruct pandas to parse the index of the DataFrame. If you want to parse any other column, you must explicitly pass the column position or name:"
      ]
    },
    {
      "cell_type": "code",
      "metadata": {
        "id": "VV6oVrEvliAK"
      },
      "source": [
        "pd.read_csv('data/eth-price.csv', parse_dates=[0]).head()"
      ],
      "execution_count": null,
      "outputs": []
    },
    {
      "cell_type": "markdown",
      "metadata": {
        "id": "HJ6EjyC5lkfT"
      },
      "source": [
        "Putting everything together again:"
      ]
    },
    {
      "cell_type": "code",
      "metadata": {
        "id": "IRIv5PFrlnPW"
      },
      "source": [
        "eth = pd.read_csv('data/eth-price.csv', parse_dates=True, index_col=0)\n",
        "print(eth.info())\n",
        "\n",
        "eth.head()"
      ],
      "execution_count": null,
      "outputs": []
    },
    {
      "cell_type": "markdown",
      "metadata": {
        "id": "rRj6qkdalrPH"
      },
      "source": [
        "We can now combine both DataFrames into one. Both have the same index, so aligning both prices will be easy. Let's first create an empty DataFrame and with the index from Bitcoin prices:"
      ]
    },
    {
      "cell_type": "code",
      "metadata": {
        "id": "cwIdRUtUltpx"
      },
      "source": [
        "prices = pd.DataFrame(index=df.index)"
      ],
      "execution_count": null,
      "outputs": []
    },
    {
      "cell_type": "code",
      "metadata": {
        "id": "7L3Hzr_VlvU8"
      },
      "source": [
        "prices.head()"
      ],
      "execution_count": null,
      "outputs": []
    },
    {
      "cell_type": "markdown",
      "metadata": {
        "id": "rVPLUwJUlyTy"
      },
      "source": [
        "And we can now just set columns from the other DataFrames:"
      ]
    },
    {
      "cell_type": "code",
      "metadata": {
        "id": "d1Xr6EKLl1le"
      },
      "source": [
        "prices['Bitcoin'] = df['Price']"
      ],
      "execution_count": null,
      "outputs": []
    },
    {
      "cell_type": "code",
      "metadata": {
        "id": "JxDmKeF6l3v4"
      },
      "source": [
        "prices['Ether'] = eth['Value']"
      ],
      "execution_count": null,
      "outputs": []
    },
    {
      "cell_type": "code",
      "metadata": {
        "id": "NU7WCOgvl6hB"
      },
      "source": [
        "prices.head()"
      ],
      "execution_count": null,
      "outputs": []
    },
    {
      "cell_type": "markdown",
      "metadata": {
        "id": "i1awqmCXl9KY"
      },
      "source": [
        "We can now try plotting both values:"
      ]
    },
    {
      "cell_type": "code",
      "metadata": {
        "id": "DvKrdc17l-pO"
      },
      "source": [
        "prices.plot(figsize=(12, 6))"
      ],
      "execution_count": null,
      "outputs": []
    },
    {
      "cell_type": "markdown",
      "metadata": {
        "id": "x5kaCy7lmBUI"
      },
      "source": [
        "🤔seems like there's a tiny gap between Dec 2017 and Jan 2018. Let's zoom in there:"
      ]
    },
    {
      "cell_type": "code",
      "metadata": {
        "id": "V7RUXpEqmFXh"
      },
      "source": [
        "prices.loc['2017-12-01':'2018-01-01'].plot(figsize=(12, 6))"
      ],
      "execution_count": null,
      "outputs": []
    },
    {
      "cell_type": "markdown",
      "metadata": {
        "id": "9X5gfDGtmI1B"
      },
      "source": [
        "Oh no, missing data 😱. We'll learn how to deal with that later 😉.\n",
        "\n",
        "Btw, did you note that fancy indexing '2017-12-01':'2018-01-01' 😏. That's pandas power 💪. We'll learn how to deal with TimeSeries later too.\n"
      ]
    },
    {
      "cell_type": "code",
      "metadata": {
        "id": "n64VB0CpmRMV"
      },
      "source": [
        ""
      ],
      "execution_count": null,
      "outputs": []
    }
  ]
}