{
  "nbformat": 4,
  "nbformat_minor": 0,
  "metadata": {
    "colab": {
      "name": "Pandas - Series.ipynb",
      "provenance": [],
      "authorship_tag": "ABX9TyOvSrDLM0bT11mOyasy9Rsv",
      "include_colab_link": true
    },
    "kernelspec": {
      "name": "python3",
      "display_name": "Python 3"
    },
    "language_info": {
      "name": "python"
    }
  },
  "cells": [
    {
      "cell_type": "markdown",
      "metadata": {
        "id": "view-in-github",
        "colab_type": "text"
      },
      "source": [
        "<a href=\"https://colab.research.google.com/github/makena-yvonne/Countdown/blob/master/Pandas_Series.ipynb\" target=\"_parent\"><img src=\"https://colab.research.google.com/assets/colab-badge.svg\" alt=\"Open In Colab\"/></a>"
      ]
    },
    {
      "cell_type": "markdown",
      "metadata": {
        "id": "keDV_vg6YE5W"
      },
      "source": [
        "Hands on!\n"
      ]
    },
    {
      "cell_type": "code",
      "metadata": {
        "id": "AZUaWH7GYJnD"
      },
      "source": [
        "import pandas as pd\n",
        "import numpy as np"
      ],
      "execution_count": 1,
      "outputs": []
    },
    {
      "cell_type": "markdown",
      "metadata": {
        "id": "O4l5839jYSJM"
      },
      "source": [
        "Pandas Series\n",
        "We'll start analyzing \"[The Group of Seven](https://en.wikipedia.org/wiki/Group_of_Seven)\". Which is a political formed by Canada, France, Germany, Italy, Japan, the United Kingdom and the United States. We'll start by analyzing population, and for that, we'll use a pandas.Series object."
      ]
    },
    {
      "cell_type": "code",
      "metadata": {
        "id": "jQ1Jkk4OZiS4"
      },
      "source": [
        "# In millions\n",
        "g7_pop = pd.Series([35.467, 63.951, 80.940, 60.665, 127.061, 64.511, 318.523])"
      ],
      "execution_count": 2,
      "outputs": []
    },
    {
      "cell_type": "code",
      "metadata": {
        "colab": {
          "base_uri": "https://localhost:8080/"
        },
        "id": "xUvl6Qq5ZsNJ",
        "outputId": "bc952746-7a79-44cf-c5b8-eda18b5c1188"
      },
      "source": [
        "g7_pop"
      ],
      "execution_count": 3,
      "outputs": [
        {
          "output_type": "execute_result",
          "data": {
            "text/plain": [
              "0     35.467\n",
              "1     63.951\n",
              "2     80.940\n",
              "3     60.665\n",
              "4    127.061\n",
              "5     64.511\n",
              "6    318.523\n",
              "dtype: float64"
            ]
          },
          "metadata": {
            "tags": []
          },
          "execution_count": 3
        }
      ]
    },
    {
      "cell_type": "markdown",
      "metadata": {
        "id": "1EwmQVHtZ3m0"
      },
      "source": [
        "\n",
        "Someone might not know we're representing population in millions of inhabitants. Series can have a name, to better document the purpose of the Series:\n"
      ]
    },
    {
      "cell_type": "code",
      "metadata": {
        "id": "Q-_kHoYOZ9uV"
      },
      "source": [
        "g7_pop.name = 'G7 Population in millions'"
      ],
      "execution_count": 4,
      "outputs": []
    },
    {
      "cell_type": "code",
      "metadata": {
        "colab": {
          "base_uri": "https://localhost:8080/"
        },
        "id": "qcyfc0S8aBwf",
        "outputId": "4ed1c07f-67a6-4f18-d542-1e32decea9b6"
      },
      "source": [
        "g7_pop"
      ],
      "execution_count": 5,
      "outputs": [
        {
          "output_type": "execute_result",
          "data": {
            "text/plain": [
              "0     35.467\n",
              "1     63.951\n",
              "2     80.940\n",
              "3     60.665\n",
              "4    127.061\n",
              "5     64.511\n",
              "6    318.523\n",
              "Name: G7 Population in millions, dtype: float64"
            ]
          },
          "metadata": {
            "tags": []
          },
          "execution_count": 5
        }
      ]
    },
    {
      "cell_type": "markdown",
      "metadata": {
        "id": "SYwgnkYXaEVf"
      },
      "source": [
        "\n",
        "Series are pretty similar to numpy arrays:"
      ]
    },
    {
      "cell_type": "code",
      "metadata": {
        "colab": {
          "base_uri": "https://localhost:8080/"
        },
        "id": "UOwSicXLaCab",
        "outputId": "c6659ca9-3324-4c2b-cacf-ffd60b8c1720"
      },
      "source": [
        "g7_pop.dtype"
      ],
      "execution_count": 6,
      "outputs": [
        {
          "output_type": "execute_result",
          "data": {
            "text/plain": [
              "dtype('float64')"
            ]
          },
          "metadata": {
            "tags": []
          },
          "execution_count": 6
        }
      ]
    },
    {
      "cell_type": "code",
      "metadata": {
        "colab": {
          "base_uri": "https://localhost:8080/"
        },
        "id": "V9jZFtrSaKqx",
        "outputId": "656b652f-8c10-43b1-eff9-de1cabd16129"
      },
      "source": [
        "g7_pop.values"
      ],
      "execution_count": 7,
      "outputs": [
        {
          "output_type": "execute_result",
          "data": {
            "text/plain": [
              "array([ 35.467,  63.951,  80.94 ,  60.665, 127.061,  64.511, 318.523])"
            ]
          },
          "metadata": {
            "tags": []
          },
          "execution_count": 7
        }
      ]
    },
    {
      "cell_type": "markdown",
      "metadata": {
        "id": "FxGsHi9xaMKw"
      },
      "source": [
        "They're actually backed by numpy arrays:"
      ]
    },
    {
      "cell_type": "code",
      "metadata": {
        "colab": {
          "base_uri": "https://localhost:8080/"
        },
        "id": "EEF-AyPraN_c",
        "outputId": "fe7451b7-1330-44a6-f99e-2bcff3be8d94"
      },
      "source": [
        "type(g7_pop.values)"
      ],
      "execution_count": 8,
      "outputs": [
        {
          "output_type": "execute_result",
          "data": {
            "text/plain": [
              "numpy.ndarray"
            ]
          },
          "metadata": {
            "tags": []
          },
          "execution_count": 8
        }
      ]
    },
    {
      "cell_type": "markdown",
      "metadata": {
        "id": "OwPT0QwwaQZj"
      },
      "source": [
        "And they look like simple Python lists or Numpy Arrays. But they're actually more similar to Python dicts.\n",
        "\n",
        "A Series has an index, that's similar to the automatic index assigned to Python's lists:"
      ]
    },
    {
      "cell_type": "code",
      "metadata": {
        "colab": {
          "base_uri": "https://localhost:8080/"
        },
        "id": "Wvt7M6VTaSNU",
        "outputId": "739ecc99-696f-460d-ebbe-9ff144dc8ebf"
      },
      "source": [
        "g7_pop"
      ],
      "execution_count": 9,
      "outputs": [
        {
          "output_type": "execute_result",
          "data": {
            "text/plain": [
              "0     35.467\n",
              "1     63.951\n",
              "2     80.940\n",
              "3     60.665\n",
              "4    127.061\n",
              "5     64.511\n",
              "6    318.523\n",
              "Name: G7 Population in millions, dtype: float64"
            ]
          },
          "metadata": {
            "tags": []
          },
          "execution_count": 9
        }
      ]
    },
    {
      "cell_type": "code",
      "metadata": {
        "colab": {
          "base_uri": "https://localhost:8080/"
        },
        "id": "s7Qinv2iaVL3",
        "outputId": "5f239bb8-3f7f-4944-879e-924e2ba15014"
      },
      "source": [
        "g7_pop[0]"
      ],
      "execution_count": 10,
      "outputs": [
        {
          "output_type": "execute_result",
          "data": {
            "text/plain": [
              "35.467"
            ]
          },
          "metadata": {
            "tags": []
          },
          "execution_count": 10
        }
      ]
    },
    {
      "cell_type": "code",
      "metadata": {
        "colab": {
          "base_uri": "https://localhost:8080/"
        },
        "id": "cQF8bFQRaXoj",
        "outputId": "f9006398-a7dd-484f-854e-16cbea37b67b"
      },
      "source": [
        "g7_pop[1]"
      ],
      "execution_count": 11,
      "outputs": [
        {
          "output_type": "execute_result",
          "data": {
            "text/plain": [
              "63.951"
            ]
          },
          "metadata": {
            "tags": []
          },
          "execution_count": 11
        }
      ]
    },
    {
      "cell_type": "code",
      "metadata": {
        "colab": {
          "base_uri": "https://localhost:8080/"
        },
        "id": "bamgg3fraYjP",
        "outputId": "365fdc34-dd8c-4074-904c-f5541513bccc"
      },
      "source": [
        "g7_pop.index"
      ],
      "execution_count": 12,
      "outputs": [
        {
          "output_type": "execute_result",
          "data": {
            "text/plain": [
              "RangeIndex(start=0, stop=7, step=1)"
            ]
          },
          "metadata": {
            "tags": []
          },
          "execution_count": 12
        }
      ]
    },
    {
      "cell_type": "code",
      "metadata": {
        "id": "-TNtjS2nabPB"
      },
      "source": [
        "l = ['a', 'b', 'c']"
      ],
      "execution_count": 13,
      "outputs": []
    },
    {
      "cell_type": "markdown",
      "metadata": {
        "id": "QeeFcTEracqs"
      },
      "source": [
        "But, in contrast to lists, we can explicitly define the index:"
      ]
    },
    {
      "cell_type": "code",
      "metadata": {
        "id": "1DwS3-0HahFR"
      },
      "source": [
        "g7_pop.index = [\n",
        "    'Canada',\n",
        "    'France',\n",
        "    'Germany',\n",
        "    'Italy',\n",
        "    'Japan',\n",
        "    'United Kingdom',\n",
        "    'United States',\n",
        "]"
      ],
      "execution_count": 14,
      "outputs": []
    },
    {
      "cell_type": "code",
      "metadata": {
        "colab": {
          "base_uri": "https://localhost:8080/"
        },
        "id": "KE05qSK6akby",
        "outputId": "e524db47-6a77-41f5-bd4a-4ff0acfb1df8"
      },
      "source": [
        "g7_pop"
      ],
      "execution_count": 15,
      "outputs": [
        {
          "output_type": "execute_result",
          "data": {
            "text/plain": [
              "Canada             35.467\n",
              "France             63.951\n",
              "Germany            80.940\n",
              "Italy              60.665\n",
              "Japan             127.061\n",
              "United Kingdom     64.511\n",
              "United States     318.523\n",
              "Name: G7 Population in millions, dtype: float64"
            ]
          },
          "metadata": {
            "tags": []
          },
          "execution_count": 15
        }
      ]
    },
    {
      "cell_type": "markdown",
      "metadata": {
        "id": "pDV8p_VmaoUO"
      },
      "source": [
        "Compare it with the [following table](https://docs.google.com/spreadsheets/d/1IlorV2-Oh9Da1JAZ7weVw86PQrQydSMp-ydVMH135iI/edit?usp=sharing):\n",
        "\n",
        "\n",
        "![Capture.JPG](data:image/jpeg;base64,/9j/4AAQSkZJRgABAQEAYABgAAD/4RD0RXhpZgAATU0AKgAAAAgABAE7AAIAAAAOAAAISodpAAQAAAABAAAIWJydAAEAAAAcAAAQ0OocAAcAAAgMAAAAPgAAAAAc6gAAAAgAAAAAAAAAAAAAAAAAAAAAAAAAAAAAAAAAAAAAAAAAAAAAAAAAAAAAAAAAAAAAAAAAAAAAAAAAAAAAAAAAAAAAAAAAAAAAAAAAAAAAAAAAAAAAAAAAAAAAAAAAAAAAAAAAAAAAAAAAAAAAAAAAAAAAAAAAAAAAAAAAAAAAAAAAAAAAAAAAAAAAAAAAAAAAAAAAAAAAAAAAAAAAAAAAAAAAAAAAAAAAAAAAAAAAAAAAAAAAAAAAAAAAAAAAAAAAAAAAAAAAAAAAAAAAAAAAAAAAAAAAAAAAAAAAAAAAAAAAAAAAAAAAAAAAAAAAAAAAAAAAAAAAAAAAAAAAAAAAAAAAAAAAAAAAAAAAAAAAAAAAAAAAAAAAAAAAAAAAAAAAAAAAAAAAAAAAAAAAAAAAAAAAAAAAAAAAAAAAAAAAAAAAAAAAAAAAAAAAAAAAAAAAAAAAAAAAAAAAAAAAAAAAAAAAAAAAAAAAAAAAAAAAAAAAAAAAAAAAAAAAAAAAAAAAAAAAAAAAAAAAAAAAAAAAAAAAAAAAAAAAAAAAAAAAAAAAAAAAAAAAAAAAAAAAAAAAAAAAAAAAAAAAAAAAAAAAAAAAAAAAAAAAAAAAAAAAAAAAAAAAAAAAAAAAAAAAAAAAAAAAAAAAAAAAAAAAAAAAAAAAAAAAAAAAAAAAAAAAAAAAAAAAAAAAAAAAAAAAAAAAAAAAAAAAAAAAAAAAAAAAAAAAAAAAAAAAAAAAAAAAAAAAAAAAAAAAAAAAAAAAAAAAAAAAAAAAAAAAAAAAAAAAAAAAAAAAAAAAAAAAAAAAAAAAAAAAAAAAAAAAAAAAAAAAAAAAAAAAAAAAAAAAAAAAAAAAAAAAAAAAAAAAAAAAAAAAAAAAAAAAAAAAAAAAAAAAAAAAAAAAAAAAAAAAAAAAAAAAAAAAAAAAAAAAAAAAAAAAAAAAAAAAAAAAAAAAAAAAAAAAAAAAAAAAAAAAAAAAAAAAAAAAAAAAAAAAAAAAAAAAAAAAAAAAAAAAAAAAAAAAAAAAAAAAAAAAAAAAAAAAAAAAAAAAAAAAAAAAAAAAAAAAAAAAAAAAAAAAAAAAAAAAAAAAAAAAAAAAAAAAAAAAAAAAAAAAAAAAAAAAAAAAAAAAAAAAAAAAAAAAAAAAAAAAAAAAAAAAAAAAAAAAAAAAAAAAAAAAAAAAAAAAAAAAAAAAAAAAAAAAAAAAAAAAAAAAAAAAAAAAAAAAAAAAAAAAAAAAAAAAAAAAAAAAAAAAAAAAAAAAAAAAAAAAAAAAAAAAAAAAAAAAAAAAAAAAAAAAAAAAAAAAAAAAAAAAAAAAAAAAAAAAAAAAAAAAAAAAAAAAAAAAAAAAAAAAAAAAAAAAAAAAAAAAAAAAAAAAAAAAAAAAAAAAAAAAAAAAAAAAAAAAAAAAAAAAAAAAAAAAAAAAAAAAAAAAAAAAAAAAAAAAAAAAAAAAAAAAAAAAAAAAAAAAAAAAAAAAAAAAAAAAAAAAAAAAAAAAAAAAAAAAAAAAAAAAAAAAAAAAAAAAAAAAAAAAAAAAAAAAAAAAAAAAAAAAAAAAAAAAAAAAAAAAAAAAAAAAAAAAAAAAAAAAAAAAAAAAAAAAAAAAAAAAAAAAAAAAAAAAAAAAAAAAAAAAAAAAAAAAAAAAAAAAAAAAAAAAAAAAAAAAAAAAAAAAAAAAAAAAAAAAAAAAAAAAAAAAAAAAAAAAAAAAAAAAAAAAAAAAAAAAAAAAAAAAAAAAAAAAAAAAAAAAAAAAAAAAAAAAAAAAAAAAAAAAAAAAAAAAAAAAAAAAAAAAAAAAAAAAAAAAAAAAAAAAAAAAAAAAAAAAAAAAAAAAAAAAAAAAAAAAAAAAAAAAAAAAAAAAAAAAAAAAAAAAAAAAAAAAAAAAAAAAAAAAAAAAAAAAAAAAAAAAAAAAAAAAAAAAAAAAAAAAAAAAAAAAAAAAAAAAAAAAAAAAAAAAAAAAAAAAAAAAAAAAAAAAAAAAAAAAAAAAAAAAAAAAAAAAAAAAAAAAAAAAAAAAAAAAAAAAAAAAAAAAAAAAAAAAAAAAAAAAAAAAAAAAAAAAAAAAAAAAAAAAAAAAAAAAAAAAAAAAAAAAAAAAAAAAAAAAAAAAAAAAAAAAAAAAAAAAAAAAAAAAAAAAAAAAAAAAAAAAAAAAAAAAAAAAAAAAAAAAAAAAAAAAAAAAAAAAAAAAAAAAAAAAAAAAAAAAAAAAAAAAAAAAAAAAAAAAAAAAAAAAAAAAAAAAAAAAAAAAAAAAAAAAAAAAAAAAAAAAAAAAAAAAAAAAAAAAAAAAAAAAAAAAAAAAAAAAAAAAAAAAAAAAAAAAAAAAAAAAAAAAAAAAAAAAAAAAAAAAAAAAAAAAAAAAAAAAAAAAAAAAAAAAAAAAAAAAAAAAAAAAAAAAAAAAAAAAAAAAAAAAAAAAAAAAAAAAAAAAAAAAAAAAAAAAAAAAAAAAAAAAAAAAAAAAAAAAAAAAAAAAAAAAAAAAAAAAAAAAAAAAAAAAAAAAAAAAAAAAAAAAAAAAAAAAAAAAAAAAAAAAAAAAAAAAAAAAAAAAAAAAAAAAAAAAAAAAAAAAAAAAAAAAAAAAAAAAAAAAAAAAAAAAAAAAAAAAAAAAAAAAAAAAAAAAAAAAAAAAAAAAAAAAAAAAAAAAAAAAAAAAAAAAAAAAAAAAAAAAAAAAAAAAAAAAAAAAAAAAAAAAAAAAAAAAAAAAAAAAAAAAAAAAAAAAAAAAAAAAAAAAAAAAAFl2b25uZSBNYWtlbmEAAAWQAwACAAAAFAAAEKaQBAACAAAAFAAAELqSkQACAAAAAzk2AACSkgACAAAAAzk2AADqHAAHAAAIDAAACJoAAAAAHOoAAAAIAAAAAAAAAAAAAAAAAAAAAAAAAAAAAAAAAAAAAAAAAAAAAAAAAAAAAAAAAAAAAAAAAAAAAAAAAAAAAAAAAAAAAAAAAAAAAAAAAAAAAAAAAAAAAAAAAAAAAAAAAAAAAAAAAAAAAAAAAAAAAAAAAAAAAAAAAAAAAAAAAAAAAAAAAAAAAAAAAAAAAAAAAAAAAAAAAAAAAAAAAAAAAAAAAAAAAAAAAAAAAAAAAAAAAAAAAAAAAAAAAAAAAAAAAAAAAAAAAAAAAAAAAAAAAAAAAAAAAAAAAAAAAAAAAAAAAAAAAAAAAAAAAAAAAAAAAAAAAAAAAAAAAAAAAAAAAAAAAAAAAAAAAAAAAAAAAAAAAAAAAAAAAAAAAAAAAAAAAAAAAAAAAAAAAAAAAAAAAAAAAAAAAAAAAAAAAAAAAAAAAAAAAAAAAAAAAAAAAAAAAAAAAAAAAAAAAAAAAAAAAAAAAAAAAAAAAAAAAAAAAAAAAAAAAAAAAAAAAAAAAAAAAAAAAAAAAAAAAAAAAAAAAAAAAAAAAAAAAAAAAAAAAAAAAAAAAAAAAAAAAAAAAAAAAAAAAAAAAAAAAAAAAAAAAAAAAAAAAAAAAAAAAAAAAAAAAAAAAAAAAAAAAAAAAAAAAAAAAAAAAAAAAAAAAAAAAAAAAAAAAAAAAAAAAAAAAAAAAAAAAAAAAAAAAAAAAAAAAAAAAAAAAAAAAAAAAAAAAAAAAAAAAAAAAAAAAAAAAAAAAAAAAAAAAAAAAAAAAAAAAAAAAAAAAAAAAAAAAAAAAAAAAAAAAAAAAAAAAAAAAAAAAAAAAAAAAAAAAAAAAAAAAAAAAAAAAAAAAAAAAAAAAAAAAAAAAAAAAAAAAAAAAAAAAAAAAAAAAAAAAAAAAAAAAAAAAAAAAAAAAAAAAAAAAAAAAAAAAAAAAAAAAAAAAAAAAAAAAAAAAAAAAAAAAAAAAAAAAAAAAAAAAAAAAAAAAAAAAAAAAAAAAAAAAAAAAAAAAAAAAAAAAAAAAAAAAAAAAAAAAAAAAAAAAAAAAAAAAAAAAAAAAAAAAAAAAAAAAAAAAAAAAAAAAAAAAAAAAAAAAAAAAAAAAAAAAAAAAAAAAAAAAAAAAAAAAAAAAAAAAAAAAAAAAAAAAAAAAAAAAAAAAAAAAAAAAAAAAAAAAAAAAAAAAAAAAAAAAAAAAAAAAAAAAAAAAAAAAAAAAAAAAAAAAAAAAAAAAAAAAAAAAAAAAAAAAAAAAAAAAAAAAAAAAAAAAAAAAAAAAAAAAAAAAAAAAAAAAAAAAAAAAAAAAAAAAAAAAAAAAAAAAAAAAAAAAAAAAAAAAAAAAAAAAAAAAAAAAAAAAAAAAAAAAAAAAAAAAAAAAAAAAAAAAAAAAAAAAAAAAAAAAAAAAAAAAAAAAAAAAAAAAAAAAAAAAAAAAAAAAAAAAAAAAAAAAAAAAAAAAAAAAAAAAAAAAAAAAAAAAAAAAAAAAAAAAAAAAAAAAAAAAAAAAAAAAAAAAAAAAAAAAAAAAAAAAAAAAAAAAAAAAAAAAAAAAAAAAAAAAAAAAAAAAAAAAAAAAAAAAAAAAAAAAAAAAAAAAAAAAAAAAAAAAAAAAAAAAAAAAAAAAAAAAAAAAAAAAAAAAAAAAAAAAAAAAAAAAAAAAAAAAAAAAAAAAAAAAAAAAAAAAAAAAAAAAAAAAAAAAAAAAAAAAAAAAAAAAAAAAAAAAAAAAAAAAAAAAAAAAAAAAAAAAAAAAAAAAAAAAAAAAAAAAAAAAAAAAAAAAAAAAAAAAAAAAAAAAAAAAAAAAAAAAAAAAAAAAAAAAAAAAAAAAAAAAAAAAAAAAAAAAAAAAAAAAAAAAAAAAAAAAAAAAAAAAAAAAAAAAAAAAAAAAAAAAAAAAAAAAAAAAAAAAAAAAAAAAAAAAAAAAAAAAAAAAAAAAAAAAAAAAAAAAAAAAAAAAAAAAAAAAAAAAAAAAAAAAAAAAAAAAAAAAAAAAAAAAAAAAAAAAAAAAAAAAAAAAAAAAAAAAAAAAAAAAAAAAAAAAAAAAAAAAAAAAAAAAAAAAAAAAAAAAAAAAAAAAAAAAAAAAAAAAAAAAAAAAAAAAAAAAAAAAAAAAAAAAAAAAAAAAAAAAAAAAAAAAAAAAAAAAAAAAAAAAAAAAAAAAAAAAAAAAAAAAAAAAAAAAAAAAAAAAAAAAAAAAAAAAAAAAAAAAAAAAAAAAAAAAAAAAAAAAAAAAAAAAAAAAAAAAAAAAAAAAAAAAAAAAAAAAAAAAAAAAAAAAAAAAAAAAAAAAAAAAAAAAAAAAAAAAAAAAAAAAAAAAAAAAAAAAAAAAAAAAAAAAAAAAAAAAAAAAAAAAAAAAAAAAAAAAAAAAAAAAAAAAAAAAAAAAAAAAAAAAAAAAAAAAAAAAAAAAAAAAAAAAAAAAAAAAAAAAAAAAAAAAAAAAAAAAAAAAAAAAAAAAAAAAAAAAAAAAAAAAAAAAAAAAAAAAAAAAAAAAAAAAAAAAAAAAAAAAAAAAAAAAAAAAAAAAAAAAAAAAAAAAAAAAAAAAAAAAAAAAAAAAAAAAAAAAAAAAAAAAAAAAAAAAAAAAAAAAAAAAAAAAAAAAAAAAAAAAAAAAAAAAAAAAAAAAAAAAAAAAAAAAAAAAAAAAAAAAAAAAAAAAAAAAAAAAAAAAAAAAAAAAAAAAAAAAAAAAAAAAAAAAAAAAAAAAAAAAAAAAAAAAAAAAAAAAAAAAAAAAAAAAAAAAAAAAAAAAAAAAAAAAAAyMDIxOjAzOjMxIDA2OjU1OjEyADIwMjE6MDM6MzEgMDY6NTU6MTIAAABZAHYAbwBuAG4AZQAgAE0AYQBrAGUAbgBhAAAA/+ELIGh0dHA6Ly9ucy5hZG9iZS5jb20veGFwLzEuMC8APD94cGFja2V0IGJlZ2luPSfvu78nIGlkPSdXNU0wTXBDZWhpSHpyZVN6TlRjemtjOWQnPz4NCjx4OnhtcG1ldGEgeG1sbnM6eD0iYWRvYmU6bnM6bWV0YS8iPjxyZGY6UkRGIHhtbG5zOnJkZj0iaHR0cDovL3d3dy53My5vcmcvMTk5OS8wMi8yMi1yZGYtc3ludGF4LW5zIyI+PHJkZjpEZXNjcmlwdGlvbiByZGY6YWJvdXQ9InV1aWQ6ZmFmNWJkZDUtYmEzZC0xMWRhLWFkMzEtZDMzZDc1MTgyZjFiIiB4bWxuczpkYz0iaHR0cDovL3B1cmwub3JnL2RjL2VsZW1lbnRzLzEuMS8iLz48cmRmOkRlc2NyaXB0aW9uIHJkZjphYm91dD0idXVpZDpmYWY1YmRkNS1iYTNkLTExZGEtYWQzMS1kMzNkNzUxODJmMWIiIHhtbG5zOnhtcD0iaHR0cDovL25zLmFkb2JlLmNvbS94YXAvMS4wLyI+PHhtcDpDcmVhdGVEYXRlPjIwMjEtMDMtMzFUMDY6NTU6MTIuOTYwPC94bXA6Q3JlYXRlRGF0ZT48L3JkZjpEZXNjcmlwdGlvbj48cmRmOkRlc2NyaXB0aW9uIHJkZjphYm91dD0idXVpZDpmYWY1YmRkNS1iYTNkLTExZGEtYWQzMS1kMzNkNzUxODJmMWIiIHhtbG5zOmRjPSJodHRwOi8vcHVybC5vcmcvZGMvZWxlbWVudHMvMS4xLyI+PGRjOmNyZWF0b3I+PHJkZjpTZXEgeG1sbnM6cmRmPSJodHRwOi8vd3d3LnczLm9yZy8xOTk5LzAyLzIyLXJkZi1zeW50YXgtbnMjIj48cmRmOmxpPll2b25uZSBNYWtlbmE8L3JkZjpsaT48L3JkZjpTZXE+DQoJCQk8L2RjOmNyZWF0b3I+PC9yZGY6RGVzY3JpcHRpb24+PC9yZGY6UkRGPjwveDp4bXBtZXRhPg0KICAgICAgICAgICAgICAgICAgICAgICAgICAgICAgICAgICAgICAgICAgICAgICAgICAgICAgICAgICAgICAgICAgICAgICAgICAgICAgICAgICAgICAgICAgICAgICAgICAgIAogICAgICAgICAgICAgICAgICAgICAgICAgICAgICAgICAgICAgICAgICAgICAgICAgICAgICAgICAgICAgICAgICAgICAgICAgICAgICAgICAgICAgICAgICAgICAgICAgICAgCiAgICAgICAgICAgICAgICAgICAgICAgICAgICAgICAgICAgICAgICAgICAgICAgICAgICAgICAgICAgICAgICAgICAgICAgICAgICAgICAgICAgICAgICAgICAgICAgICAgICAKICAgICAgICAgICAgICAgICAgICAgICAgICAgICAgICAgICAgICAgICAgICAgICAgICAgICAgICAgICAgICAgICAgICAgICAgICAgICAgICAgICAgICAgICAgICAgICAgICAgIAogICAgICAgICAgICAgICAgICAgICAgICAgICAgICAgICAgICAgICAgICAgICAgICAgICAgICAgICAgICAgICAgICAgICAgICAgICAgICAgICAgICAgICAgICAgICAgICAgICAgCiAgICAgICAgICAgICAgICAgICAgICAgICAgICAgICAgICAgICAgICAgICAgICAgICAgICAgICAgICAgICAgICAgICAgICAgICAgICAgICAgICAgICAgICAgICAgICAgICAgICAKICAgICAgICAgICAgICAgICAgICAgICAgICAgICAgICAgICAgICAgICAgICAgICAgICAgICAgICAgICAgICAgICAgICAgICAgICAgICAgICAgICAgICAgICAgICAgICAgICAgIAogICAgICAgICAgICAgICAgICAgICAgICAgICAgICAgICAgICAgICAgICAgICAgICAgICAgICAgICAgICAgICAgICAgICAgICAgICAgICAgICAgICAgICAgICAgICAgICAgICAgCiAgICAgICAgICAgICAgICAgICAgICAgICAgICAgICAgICAgICAgICAgICAgICAgICAgICAgICAgICAgICAgICAgICAgICAgICAgICAgICAgICAgICAgICAgICAgICAgICAgICAKICAgICAgICAgICAgICAgICAgICAgICAgICAgICAgICAgICAgICAgICAgICAgICAgICAgICAgICAgICAgICAgICAgICAgICAgICAgICAgICAgICAgICAgICAgICAgICAgICAgIAogICAgICAgICAgICAgICAgICAgICAgICAgICAgICAgICAgICAgICAgICAgICAgICAgICAgICAgICAgICAgICAgICAgICAgICAgICAgICAgICAgICAgICAgICAgICAgICAgICAgCiAgICAgICAgICAgICAgICAgICAgICAgICAgICAgICAgICAgICAgICAgICAgICAgICAgICAgICAgICAgICAgICAgICAgICAgICAgICAgICAgICAgICAgICAgICAgICAgICAgICAKICAgICAgICAgICAgICAgICAgICAgICAgICAgICAgICAgICAgICAgICAgICAgICAgICAgICAgICAgICAgICAgICAgICAgICAgICAgICAgICAgICAgICAgICAgICAgICAgICAgIAogICAgICAgICAgICAgICAgICAgICAgICAgICAgICAgICAgICAgICAgICAgICAgICAgICAgICAgICAgICAgICAgICAgICAgICAgICAgICAgICAgICAgICAgICAgICAgICAgICAgCiAgICAgICAgICAgICAgICAgICAgICAgICAgICAgICAgICAgICAgICAgICAgICAgICAgICAgICAgICAgICAgICAgICAgICAgICAgICAgICAgICAgICAgICAgICAgICAgICAgICAKICAgICAgICAgICAgICAgICAgICAgICAgICAgICAgICAgICAgICAgICAgICAgICAgICAgICAgICAgICAgICAgICAgICAgICAgICAgICAgICAgICAgICAgICAgICAgICAgICAgIAogICAgICAgICAgICAgICAgICAgICAgICAgICAgICAgICAgICAgICAgICAgICAgICAgICAgICAgICAgICAgICAgICAgICAgICAgICAgICAgICAgICAgICAgICAgICAgICAgICAgCiAgICAgICAgICAgICAgICAgICAgICAgICAgICAgICAgICAgICAgICAgICAgICAgICAgICAgICAgICAgICAgICAgICAgICAgICAgICAgICAgICAgICAgICAgICAgICAgICAgICAKICAgICAgICAgICAgICAgICAgICAgICAgICAgICAgICAgICAgICAgICAgICAgICAgICAgICAgICAgICAgICAgICAgICAgICAgICAgICAgICAgICAgICAgICAgICAgICAgICAgIAogICAgICAgICAgICAgICAgICAgICAgICAgICAgICAgICAgICAgICAgICAgICAgICAgICAgICAgICAgICAgICAgICAgICAgICAgICAgICAgICAgICAgICAgICAgICAgICAgICAgCiAgICAgICAgICAgICAgICAgICAgICAgICAgICA8P3hwYWNrZXQgZW5kPSd3Jz8+/9sAQwAHBQUGBQQHBgUGCAcHCAoRCwoJCQoVDxAMERgVGhkYFRgXGx4nIRsdJR0XGCIuIiUoKSssKxogLzMvKjInKisq/9sAQwEHCAgKCQoUCwsUKhwYHCoqKioqKioqKioqKioqKioqKioqKioqKioqKioqKioqKioqKioqKioqKioqKioqKioq/8AAEQgBBAFuAwEiAAIRAQMRAf/EAB8AAAEFAQEBAQEBAAAAAAAAAAABAgMEBQYHCAkKC//EALUQAAIBAwMCBAMFBQQEAAABfQECAwAEEQUSITFBBhNRYQcicRQygZGhCCNCscEVUtHwJDNicoIJChYXGBkaJSYnKCkqNDU2Nzg5OkNERUZHSElKU1RVVldYWVpjZGVmZ2hpanN0dXZ3eHl6g4SFhoeIiYqSk5SVlpeYmZqio6Slpqeoqaqys7S1tre4ubrCw8TFxsfIycrS09TV1tfY2drh4uPk5ebn6Onq8fLz9PX29/j5+v/EAB8BAAMBAQEBAQEBAQEAAAAAAAABAgMEBQYHCAkKC//EALURAAIBAgQEAwQHBQQEAAECdwABAgMRBAUhMQYSQVEHYXETIjKBCBRCkaGxwQkjM1LwFWJy0QoWJDThJfEXGBkaJicoKSo1Njc4OTpDREVGR0hJSlNUVVZXWFlaY2RlZmdoaWpzdHV2d3h5eoKDhIWGh4iJipKTlJWWl5iZmqKjpKWmp6ipqrKztLW2t7i5usLDxMXGx8jJytLT1NXW19jZ2uLj5OXm5+jp6vLz9PX29/j5+v/aAAwDAQACEQMRAD8A+kaKzfEP/IBuf+A/+hCuHrelRdRXuY1Kypu1j0qivNaK1+qvuZfWl2PSqK81oo+qvuH1pdj0qivNaKPqr7h9aXY9KorzWij6q+4fWl2PSqK81oo+qvuH1pdj0qivNaKPqr7h9aXY9KorzWq97f2mm2rXF/cx28K9XlcKP1o+qvuH1ldj1KivI9M8Q6RrLMul6jb3TIMssUoYj8Ka3ibREco+rWaspwQZ14P50vq394f1jyPXqK8yE0bQecrgxbdwcHgj1rFg8beGrmZYodbsndjgATrz+tDwrW7BYm+yPZ6K80ByMg5Bpaf1V9xfWl2PSqK81oo+qvuH1pdj0qivKpdUsYNSh0+a6jS7nXdHCWwzj1A/A1bo+qvuH1ldj0qivMjLGJPLMi78Z27uceuKgsNSs9UtzPp9zHcRBipeNsjI6ij6q+4fWV2PVKK81oo+qvuH1pdj0qivNaKPqr7h9aXY9KorzWij6q+4fWl2PSqK81oo+qvuH1pdj0qivNaKPqr7h9aXY9KorzWij6q+4fWl2PSqK81oo+qvuH1pdj0qivNaKPqr7h9aXY9KormvCH/L5/wD/wBmrpa5qkOSXKdEJc8eYzfEP/IBuf8AgP8A6EK4eu48Q/8AIBuf+A/+hCuHrtwvws5MV8SCiiius5AooooAKKKKACiiigAooooAKKKKACvMPF9rD4g+MGi6HrEhbTltDcLbFsLLJlh+PA/T616fXM+LfBNn4qa1uGuZrG/tDmC7tzh19vpUVItrQuEknqcaX8N6b8T7NYfDuo6Rdea9tBLFEILefHBYAY3Dnt6ioPFfgvQtS8f6X4e0vTo4ZJd19qE6E7hGD0/En+VdLpvw0MWv2ur61r99qs9ocwrNgKhrdtPC8Fr4yv8AxF57vPeRJF5bKMRhQBwffGayVNtarqae0Sej6GjcwR22iTQQIEjjt2VVUYAAXgV8+6TBFqvw1g0uw8F3V3qcrEJqaWuEzvPPm47DjnjivoqeIT28kROBIpUkdsisvwr4di8K+HLfSLed7iODdiRwATkk9vrVzpuciYT5UcT/AGj4ptNS0PwXpNzbxXsenrPeXc6bwqjC4A74qGTx54isfDPiaG/+zf2zockaiaNMxyK7DBx9DXVeJfBC65rVprNjqVxpepWqFFnhAbcuc4IPBHX865rxF4FGhfDXXYrKS61TUdQdJJ5nXdJKQ69h6c/rWclUV2XFwdkCeK/FWh6x4efxDcWdzZ64dnlQQ7TCxxjnv94fr9au2HjLVrjwZ4u1KR4vtGk3NzFbER8BUHy5HenaB8PGE2j6hq+r3l6mnxBrW0mUAQsR3PU49/QUlz8KxMdVgg8QXttYapK009qiLgucnqecZPTvTtUtoL3L6mDLfz6l8TvA1/dFTPcaV5shAwNxVyfpVTV/ibrmlXZnXV7C7AvjE1lb2xZRGD/z16E9q7tfh9ajVtEv/tsxbSLP7IibRiQYIyfQ81hf8KcibSf7KfxBef2fHN58MIhT5HyOScZPFDjOysXzU29SppA1yT42asxvIDGsEbyqY+sRUFVHocYyapad431Gx8E2cekWtlDqWpao9rDshCRpz94qOCen5128vgdv+E2/4SK01a4t2kjSOe3VFKyqoAxntnFU2+F2nt4WXR/t1wHiuzdwXSgB4nPpScJr4fMXPDr5FCDxT4k0PxTJoHiKa2vJLixkubW4gi2bWRWYhh6fKf0rAj8eeMh4OsfFM15YtbSXotmtRb4LDcRndnjoa7TS/h6ltqNxqWr6rc6pqEts1tHPMoHkoQQdoHGef5+tRn4ZWZ8DW3hn+0J/Jt7r7SJtg3E5Jxjp3pqFS+rFzU7HaRP5kKPjG5Qf0p9NjTy4kQHIVQM06uk5wooopAFFFFABRRRQAUUUUAFFFFABRRRQB0vhD/l8/wCAf+zV0tc14Q/5fP8AgH/s1dLXl4j+Iz06H8NGH4zE58HagLSbyJvLGyXbu2HcOcd68P8AJ8W/9DR/5JJXufi3/kVb7/dX/wBCFeSVkpyjszRxjLdGP5Pi3/oaP/JJKPJ8W/8AQ0f+SSVsUVXtJ9xezh2MfyfFv/Q0f+SSUeT4t/6Gj/ySStiij2k+4ezh2MfyfFv/AENH/kklHk+Lf+ho/wDJJK2KKPaT7h7OHYx/J8W/9DR/5JJR5Pi3/oaP/JJK2KKPaT7h7OHYx/J8W/8AQ0f+SSUeT4t/6Gj/AMkkrYqextWvb6G2Q4aVwufSj2k+4vZw7GB5Pi3/AKGj/wAkko8nxb/0NH/kkld7Z2tjLNqb29gbtLcKIYlYktzgnj86q6iqm12/2G9gWYATOWwOfcUe0n3D2cOxxnk+Lf8AoaP/ACSSjyfFv/Q0f+SSV1MmhX0PnmVFRIFDM7N8pB6YPfNT/wDCM3o2qZLcSuu9IvNG5x7Cj2k+4ezh2OP8nxb/ANDR/wCSSUeT4t/6Gj/ySSuri0G6k0/7Y7wxRHO3zHwSR1GPXin/APCOXnl/fh88rvFv5g8wjGfu0e0n3H7OHY5HyfFv/Q0f+SSUeT4t/wCho/8AJJK6y30C5uLaOXzYIvN/1SSShWfnHApLbQrmePe8kMALlFE0gUuw6gUe0n3D2cOxynk+Lf8AoaP/ACSSjyfFh/5mgf8AgEldVBod1LLOrtFCtu22SSRwFB+tH9g3pvltVCMWTzFkDjYV/vZ9KPaT7h7OHY5XyfFn/Q0f+SSUeT4t/wCho/8AJJK7S+0hLHw6J2aKWRrjassT7gVwePzqpZWpn0m8kFsshRkAlMmDHk+nfNHtJ9xezh2OW8nxb/0NH/kklHk+Lf8AoaP/ACSSuwk8M3sauDJbmZF3eSsoLkYznFZlrayXl0lvAAZHOFycUe0n3H7OHYwvJ8W/9DR/5JJR5Pi3/oaP/JJK7H/hGLsoWE1rhDiX98P3X+96UJo81pcTxzwR3A+zNKjLLhcf3ge/0o9pPuL2cOxx3k+Lf+ho/wDJJKPJ8W/9DR/5JJXctp1qF4iH/INE3U/fz1qvPpE1zcW6QW0duPsyyu5lyuMfeJ7Z9KHUmuo/Zwtexx3k+Lf+ho/8kko8nxb/ANDR/wCSSV1j+H7tbiCOJopluCVjljfKkjtntRdaBdWtq8xkgk8ogSrHIGZMnHIo9rPuHs4djk/J8W/9DR/5JJR5Pi3/AKGj/wAkkrrZfD13DCzNJAZUTe8AlBcL64plxaRyaHBewJtZH8mYA9T1B/Kj2k+4ezh2OV8nxb/0NH/kklHk+Lf+ho/8kkrYoo9pPuHs4djH8nxb/wBDR/5JJR5Pi3/oaP8AySStiij2k+4ezh2MfyfFv/Q0f+SSUeT4t/6Gj/ySStiij2k+4ezh2MfyfFv/AENH/kklHk+Lf+ho/wDJJK2KKPaT7h7OHYx/J8W/9DR/5JJR5Pi3/oaP/JJK2KKPaT7h7OHY674TJqyf2t/bGqf2hnyfL/crHs+/np1zx+VejVwvw1/5if8A2y/9nruqhtt3ZSSSsjG8W/8AIq33+6v/AKEK8kr1nxkzp4Q1BooJLhwgKxRLudzuHAHc14p9v1b/AKFPXv8AwDP+NIZpUVm/b9W/6FPXv/AM/wCNH2/Vv+hT17/wDP8AjQBpUVm/b9W/6FPXv/AM/wCNH2/Vv+hT17/wDP8AjQBpUVm/b9W/6FPXv/AM/wCNH2/Vv+hT17/wDP8AjQBpUVm/b9W/6FPXv/AM/wCNH2/Vv+hT17/wDP8AjQBpVpeHZ1t/EFo74278Entniub+36t/0Kevf+AZ/wAaBqGrA5HhPXs/9eZ/xoA7LTGNiuqWj3cdncnaqO7EDIbJ5A9KhvI55oQtxrltOu4fJ5rH8eRXM3Osa3eTmafwrrzSEDLfYjzUP2/Vv+hT17/wDP8AjQB3V/fWN3pTabHdEfZVVo5STiYgcj9eKsXtrDHrVrfzX0MccMaM8ZY7+B0A75rz37fq3/Qp69/4Bn/Gp7rWtcvZRJceFdeZgoXP2IjgUwOn1TUILnTLHynBdZpXePuoLAjNbbanbveC/juLFYQoJJTMwOOmK82+36t/0Kevf+AZ/wAaPt+rf9Cnr3/gGf8AGkB3+mXUTWVuJLu0lgUkyxXIw0XJ+6R+dJaXFv5ckdndWr24ncmC8H3VzwVPXkfyrgft+rf9Cnr3/gGf8aPt+rf9Cnr3/gGf8aAPQor+weK9s7F7ZcziSP7Vko/GDj8elD6na+d9ikuoAHtWiMsS4SNic49xx+tee/b9W/6FPXv/AADP+NH2/Vv+hT17/wAAz/jQB198kFn4bFl9shnn+0bysTZAG3FR6VdwQ6HfwyyqskjxFFPU4PNcp9v1b/oU9e/8Az/jTJtU1K3heabwrrqRxqWZjZnAA6nrQI7yHUbRfGNxdNcKIGTCvng/IB/OsbRZo7fWbeWZwiK+Sx7VzVrrF/e2sVzaeGNcmgmUPHIloSGU9CDnpUv2/Vv+hT17/wAAz/jQM62K9h/sjWEeYeZPKjIO7/MSavf2laeVEPtCZGmNEeej56Vwn2/Vv+hT17/wDP8AjR9v1b/oU9e/8Az/AI0LQHqdq9/aleJl/wCQYIv+B56fWrEl/Z3cAshdJGZrGKMSHorr/CTXBfb9W/6FPXv/AADP+NH2/Vv+hT17/wAAz/jTbuHSx3llcWmlCxtJbyOV1uTNI6HKRjaRjP41RtL23WPWBJMB5+PL/wBr5ieK5H7fq3/Qp69/4Bn/ABo+36t/0Kevf+AZ/wAaQHoj3NpLaub27tLm38khJOVnJxwDisdHFv4PmV+txcjyx7AcmuT+36t/0Kevf+AZ/wAamm1nW54oo5PCuvbIV2oosiAB1oAuUVm/b9W/6FPXv/AM/wCNH2/Vv+hT17/wDP8AjQBpUVm/b9W/6FPXv/AM/wCNH2/Vv+hT17/wDP8AjQBpUVm/b9W/6FPXv/AM/wCNH2/Vv+hT17/wDP8AjQBpUVm/b9W/6FPXv/AM/wCNH2/Vv+hT17/wDP8AjQBpUVm/b9W/6FPXv/AM/wCNH2/Vv+hT17/wDP8AjQB6Z8Nf+Yn/ANsv/Z67qvPPhVPdz/2r9s0m/wBO2+Tt+2Q+X5n387fXHf6ivQ6AILz/AI9x/wBdE/8AQxWR4o8X2PhaO2S4jnu728YpaWVqm+WcgZOF9Bxk9Bnmte8/49x/10T/ANDFefa3LDp3x90O61QbLe60yW2s5nPyCbcCV9iQQPegDc0bx9b6h4gXQ9V0290bUpYzLBDeKuJ1HXaykgkenWusyM4zzXMa74p0DS/FGmadfR+bqNxHK8LpGrmBFGWYnqoOO3pXiF7JM3hGz8Q2FjfQrLqEEsGtX2qsJ7ndOqkCFSVHGfl6AAnrRcdj6WJx1oJwOeK8jXwnZ+KfFfjafWbm+kW1lSO0jjvJI1gPkqSyhWAyTjrnpWL9ufWbPwdYNa6jr1+ukm5exW8+zwsoKr5sj5yzAnAXocmgS1Pdqx/+Ejtv+ExXw75chuGszeCTjZtDBceucmvELS9vbfwheaNLeS2djJ4uXT5/KvXl8iApGzRiVvmxknJ+tb93Y6P4O+J2svp95c2tvF4Ymmk8uUzPbncPmQOTzxkA8ZpX0uOx7RkZxnmivnuyjutO1rwRew6XdaWLrVIkF1c6q0s17G6MxLRAlQDwT6ZAHFfQlMQUUUUAFFFFABRRRQAUUUUAFFFFABRRRQAVl+Jv+RU1T/r0k/8AQTWpWX4m/wCRU1T/AK9JP/QTQBR+H3/JOPD/AP2Dof8A0AV0Vc78Pv8AknHh/wD7B0P/AKAK6KgAooooAKKKKACiiigAooooAKKKKACuf8T+LrTw09nbNb3F9f37lLWztU3SSEDJPOAABySa6CsLXL3T/wC0bbSjfJYazexyCxn8lXdMLliu4EcDnB60AU7Tx9plx4X1TWp4bm0GkCQXttPHtliZF3FcdDkdCDg54o8PeOF8Q3scEehazZpIm9Z7uzaOMjGR83vXmcNnbR6V458LeJ9eC4vreebW1XLStMSVVk+6pHlhcDjBro7GK+8G/EnQdHtPEN7q1lq1vKZ7e9dZDFsAKupAyo6jHT+jQM9PmljgheaZ1SONSzMxwFA5JNcvonxF0LXPC+o+IbeZo9M0+WVJJ3XAYJ1ZR1IPbuayPifd6xcxadpemaPqWoaVdSFtSl0wK0gjXBEYywHzHg89M15cuoT3Hwo8a2Nno1/psSaxLMJJ4UEcK+ev7s4Y/Mo6jGOOtIZ7Ho3xEtdU1i20+60rUdNkvommsXu4dq3CDk4wTg4OcHBrL1D4wWOkrE2p+HdftVmlEMbTWJUO56KMnk1lW8Wo+FPGnhRV16fXk1rdHPFcqreX8m7zYsD5FHTA4wR+GrGq+LfjTcC4G+x8LQL5UZOQbqXOWI74TgZ6HPtQI9CjfzI1faV3DOCMEU6iigCvekC2yTgeYnJ/3xVHXNF0LxLYfY9etbW+t924JNg4PqPQ1Prljb6no81leJvt7gqkihiMqWGRkc1yU/wr8B22PtFl5W7pvvJBn/x6gDY0Hwb4V8MzSz6Jp1pbTTLsklByzL6ZJJxwOPaqi/DnwQqhf7HszGr70jLkrG2Q2VGcLyAeKpQfCvwHcki3shLjrsvJDj/x6pv+FQeC/wDoFv8A+BUv/wAVQB00FhpVrJdyW8cCPeMGuGDf6w4C5P4ACsq78FeFL1LJZ9Otv9AQx2xVypiQ9VBBzg+lZ3/CoPBf/QLf/wACpf8A4qj/AIVB4L/6Bb/+BUv/AMVQBp2/g7wnaaLdaRb6XZR6feMHnth9yRgAMkZ6/KOfYUzT/BHhHS5LiSz0y0WS6gNvO7MWMsZ6qxJORwKz/wDhUHgv/oFv/wCBUv8A8VR/wqDwX/0C3/8AAqX/AOKoAt2vgDwbZz200Ol2oltHD27tISYSOm3J4HPQV0/nw/8APVP++hXG/wDCoPBf/QLf/wACpf8A4qj/AIVB4L/6Bb/+BUv/AMVQB2X2iH/nqn/fQo+0Q/8APVP++hXG/wDCoPBf/QLf/wACpf8A4qj/AIVB4L/6Bb/+BUv/AMVQB2X2iH/nqn/fQo+0Q/8APVP++hXG/wDCoPBf/QLf/wACpf8A4qj/AIVB4L/6Bb/+BUv/AMVQB2X2iH/nqn/fQo+0Q/8APVP++hXG/wDCoPBf/QLf/wACpf8A4qj/AIVB4L/6Bb/+BUv/AMVQB2X2iH/nqn/fQo+0Q/8APVP++hXG/wDCoPBf/QLf/wACpf8A4qj/AIVB4L/6Bb/+BUv/AMVQB2X2iH/nqn/fQo+0Q/8APVP++hXG/wDCoPBf/QLf/wACpf8A4qj/AIVB4L/6Bb/+BUv/AMVQB2X2iH/nqn/fQo+0Q/8APVP++hXG/wDCoPBf/QLf/wACpf8A4qj/AIVB4L/6Bb/+BUv/AMVQB2X2iH/nqn/fQrL8TTxHwrqmJUP+iSfxD+6awf8AhUHgv/oFv/4FS/8AxVZ2v/CbwdbeHNQmh0xxJHbSMp+0yHBCnH8VAHRfD+eIfDnw+DKg/wCJdD/EP7groftEP/PVP++hXmPgv4V+Eb/wNot3daa7zz2UUkjfaZBlioJOA1bn/CoPBf8A0C3/APAqX/4qgDsvtEP/AD1T/voUfaIf+eqf99CuN/4VB4L/AOgW/wD4FS//ABVH/CoPBf8A0C3/APAqX/4qgDsvtEP/AD1T/voUfaIf+eqf99CuN/4VB4L/AOgW/wD4FS//ABVH/CoPBf8A0C3/APAqX/4qgDsvtEP/AD1T/voUfaIf+eqf99CuN/4VB4L/AOgW/wD4FS//ABVH/CoPBf8A0C3/APAqX/4qgDsvtEP/AD1T/voUfaIf+eqf99CuN/4VB4L/AOgW/wD4FS//ABVH/CoPBf8A0C3/APAqX/4qgDsvtEP/AD1T/voUfaIf+eqf99CuN/4VB4L/AOgW/wD4FS//ABVH/CoPBf8A0C3/APAqX/4qgDsvtEP/AD1T/voVl67oOheJYYYtbtre6ED+ZCWbDRt6gg5BrB/4VB4L/wCgW/8A4FS//FU1/hH4JjQvJprKo6k3coA/8eoA2Lbwn4XtNBuNGg06zGn3RLTwHkSserNk5J96TRPCXhnw7cyXGkWVvbzyRiJpd+5tg6KCScDpwPSseP4S+B5YxJFpzOh6Mt3IR/6FSRfCfwNOpMGnmQA4JW7kOD/31QB1Ok6fpOhaclhpEUFpaxklYo24BJye/qaZDpGiW9pe2sNtbLBfySSXUfBWZn++WB6571zb/CPwTGheTTWVR1Ju5QB/49SJ8JfA8sYkj05mQ8hhdyEH/wAeoA1dG8GeFPD9+L3SNOtbe4VDGkgckohOdq5JwPpWnZadpOm3d5dWMMEE99J5tzIp5lbGMmuXX4TeBnbC6eSfQXcn/wAVSn4R+CVZVbTWBboDdy8/+PU9QO2WRHzsdWx1wc06sTw54Q0Xwp9p/sO1a3+1bfNzKz7tucfeJx941t0gILz/AI9x/wBdE/8AQxXlvxSGmv8AEnwmmtaVcataG1vd1rbxeYxOIsHbkdK9SvP+Pcf9dE/9DFYupeG5b7x7omvrOixabb3MLxFTucyhMEH22/rSe6Gji217RfBPgfWPEfhfwnPp0tuY1khvITCZsnHHJ6ZNad74r8Z6Vptj/a+m6HaXF3M3mXL3jC1totoI3MQCXJyAACOOtdB468My+LfCN1o9tPHbyTlCJHUkDDA9vpWV4y8FXeva7o+p2y6fdLp6SI9nqMbNG+8Abxjowx3B4NMDnx8W9Qi8I6tqBstOvr3TNQitMWVwzQTh8YKsRnPOOnUVrWvjnXdK8RSab4ysNPiRtLk1KKTT5XchYyoZCGA5+bjHpWfbfC7Vzp+pw32pWBlv9Qtb0fZ4GSOIREZjC+mFAH610mueCTrni2HU57kJaLpM+nSxKPnPmMp3A9OApoJ1/r1MrSfF/jK7s9L1m80CyOkagdzJbTs09tEwysjZAUjHXHSufb413R06bXYo9H/sqK5KCze8IvXiDbTJs6Z77fTv69BpXhHxhb2Ol6Lea7ZrpOnHa0ttEyz3USjCo2TtAxwfX2rEX4SaxZ6XLoemXOipYNcl476azLXcURbcUz90nnAP6eh1H0PWLW4jvLOG5gbdFNGsiH1BGR/OpaitoFtbSGCP7sSKi/QDFS0AFFFFABRRRQAUUUUAFFFFABRRRQAUUUUAFZfib/kVNU/69JP/AEE1qVl+Jv8AkVNU/wCvST/0E0AUfh9/yTjw/wD9g6H/ANAFdFXO/D7/AJJx4f8A+wdD/wCgCuioAKKKKACiiigAooooAKKKKACiiigAryv4o3zXPjPw7oUtnc6jbyrNcf2fbPt+2SKAFRzkAIMljn075xXqlcl4u8KX+qa1pOveH7q3ttV0tnC/aULRzRuMMjYOR6gjvRp1DXocj4R0S213R/Evh22n1Pw3MbmM3WmbgfsgbJ/dOP4JAD06YOAKj8JG10z4zGw07Tbrw7ZNpjxi0u8r9vlWQfvUUErwoPzEhuelbg8Ba/cWevX82ux2niDVpIXSe0VhFCsOfLTBOSDuYMc856cVbsPCviHUPF+n674qvbHOlwPHa29jGwDO4AZ3Lc4wOAPz9WHQz/i20H2rwymuSzQ+G2vn/tN4yQuNh8sORztL4B+tcXFr8X9q+OdB+HqS3unzaSGs47RiRHcEGNjHnoMsCccfLxXpuqaN4vv9GsGj1ewi1S1nLzxpC32W6jORsZSS3TvnrWda+ANWkj13UL3V0tNc1SNIYJ7BNsdnHHnYig8nJPzevbFJDuc14Ki0/wAM+J9HtNe8J3eialexeXZ3j37zpNJt+ZWG7CsRkgYrUm0zWLX436Je6xq7Xa3EVysFrGmyK3QLxgd2OeSf5YrUg8I+JNX8SaNqPi/ULB4NFJkhhso3UzTY2+YxY8cE8D1rf1Lw9LfeM9H1pJ0SPT0mVoyDl96gDB9sU9mLS1jeooopAZ+u/bP7Gn/svyftmV8nz87N24Y3Y5xXK/8AF0v+pZ/8jV2d5/x7j/ron/oYrlPGPi3UdP1rTvDfhe2t7nW9RV5FNy5WK3iUcu+Oep4A64NAFf8A4ul/1LP/AJGo/wCLpf8AUs/+Rqdbah420XxDp1rrcNnq+nX8nlPc2MTRvavgkFlJIKcHnP8A9fU1D4heFNK1OTT9Q1y1huYWCyoxP7snoGIGB+NAGT/xdL/qWf8AyNR/xdL/AKln/wAjVsav4+8LaDepZ6vrVra3DhWWJ2OSG6HgdOKqS/FPwRDdLby+JLFZWYpgueCCRgnHHIPWgCl/xdL/AKln/wAjUf8AF0v+pZ/8jVs6L498L+IrieHRdZtruS3j82VUJG1P73I6VFp/xF8JarqEFlp+uW009wSsKjI80jqFJGDQBl/8XS/6ln/yNR/xdL/qWf8AyNWje/Evwdp17JaXuv2kU8MhjlRif3bA4w3HFbdvrWm3eo3NhbXkUl1aorzRKfmRW6E+xoA5P/i6X/Us/wDkaj/i6X/Us/8Akauu0vVrHWrM3Wl3KXUAdo/Mj6blOCPwNXKAOF/4ul/1LP8A5Go/4ul/1LP/AJGruqKAOF/4ul/1LP8A5Go/4ul/1LP/AJGruqKAOF/4ul/1LP8A5Go/4ul/1LP/AJGruqKAOF/4ul/1LP8A5Go/4ul/1LP/AJGruqKAOF/4ul/1LP8A5Go/4ul/1LP/AJGruqKAOF/4ul/1LP8A5GrP1/8A4WZ/wjuofaf+Ec8n7M+/Z5u7btOce9elVl+Jv+RU1T/r0k/9BNAHn3gv/hZH/CD6L/Z//CPfZfsUXk+d5u/ZtGN2OM464rb/AOLpf9Sz/wCRq2Ph9/yTjw//ANg6H/0AV0VAHC/8XS/6ln/yNR/xdL/qWf8AyNXdUUAcL/xdL/qWf/I1H/F0v+pZ/wDI1d1RQBwv/F0v+pZ/8jUf8XS/6ln/AMjV3VFAHC/8XS/6ln/yNR/xdL/qWf8AyNXdUUAcL/xdL/qWf/I1H/F0v+pZ/wDI1d1RQBwv/F0v+pZ/8jUf8XS/6ln/AMjV3VFAHC/8XS/6ln/yNR/xdL/qWf8AyNW1458SP4S8G32swwJPJbqoRJG2qWZgoJPoCcmua0nxtrGm+KRo/iqXT7mOfTG1JLuxDAQqpGVcEnjnhu/pQBb/AOLpf9Sz/wCRqP8Ai6X/AFLP/kase18eeKYtH0zxZqVpY/8ACP6lPHG1tGGE9rHIwSNyx4Y5IyMd67Xxp4k/4RLwje6wtv8AaZIFAjizje7EKoJ7DJGfajYDC/4ul/1LP/kaj/i6X/Us/wDkaoLDxT4k0XxJoumeMf7OkTXFYQvaBlMEoAbyzkncMZ+bjntTde+JL2vxM0XwxpECzxTXBiv7k8rG2wsIwc/f4yfQEetO2tg2Om8Nf8JT/pP/AAlv9mfwfZ/sG/33bt3/AAHGPet2iikBBef8e4/66J/6GK4DxkLnwx8RtL8Zm1mu9LFq1herbxF5IAWysm0ckZznHNdvrl9b6Zo817ePst7cq8jBScKGGTgc1zH/AAt/wX/0FH/8BZf/AImgDg9V1tde8YaU3gHWPEt7PPqKSXkEkUkVtDAPvj50XHJHc96ypPtmlw+K9L1PWL6ymmvp2Onx6V55vFk+6Uk2nOQQOvGOwr1Bfi74JX7upuPpay//ABNB+LvgokE6m5I6H7LL/wDE0+lg63Ob8FaHNafFC0a+tJw1r4YtYN9woYhxgMCwyC3HODWHcaAR8ANfjFhKbm61SeR08o72/wBJIBAxn7oFeg/8Lf8ABf8A0FH/APAWX/4mj/hb/gv/AKCj/wDgLL/8TQtFb+t7jv8A18rGJ4ztpLHxna39hpP2tovD92hjWM7ZMbSsZI+p49zXAtcXmoR+CYo9Tub7ydUsZP7PtdLaCHT0DgFWYrnC/dAJzjk5r1n/AIW/4L/6Cj/+Asv/AMTSD4u+ClzjU3Gev+iy/wDxNKOgXOZtdJL+B/iQJLFjLc311tBiO6UbF249RnOKyNfbUPCWg+FfEem28jXeoaQmjXKYO4O0eYWI68PkHvz7V33/AAt/wX/0FH/8BZf/AImue1Txl4F1nxLYapf+IbySCwbzYbA2z+T5oBAkI2ZJGeOcAgGhaaB0PQPCmhReGvCunaRCP+PWBUdu7vj5mPuTkn61r1xP/C3/AAX/ANBR/wDwFl/+Jo/4W/4L/wCgo/8A4Cy//E0CO2orif8Ahb/gv/oKP/4Cy/8AxNH/AAt/wX/0FH/8BZf/AImgDtqK4n/hb/gv/oKP/wCAsv8A8TR/wt/wX/0FH/8AAWX/AOJoA7aiuJ/4W/4L/wCgo/8A4Cy//E0f8Lf8F/8AQUf/AMBZf/iaAO2orif+Fv8Agv8A6Cj/APgLL/8AE0f8Lf8ABf8A0FH/APAWX/4mgDtqK4n/AIW/4L/6Cj/+Asv/AMTR/wALf8F/9BR//AWX/wCJoA7asvxN/wAipqn/AF6Sf+gmud/4W/4L/wCgo/8A4Cy//E1na/8AFnwdc+HNQhh1NzJJbSKo+zSDJKnH8NAHS/D7/knHh/8A7B0P/oAroq8t8F/FTwjYeBtFtLrUnSeCyijkX7NIcMFAIyFrc/4W/wCC/wDoKP8A+Asv/wATQB21FcT/AMLf8F/9BR//AAFl/wDiaP8Ahb/gv/oKP/4Cy/8AxNAHbUVxP/C3/Bf/AEFH/wDAWX/4mj/hb/gv/oKP/wCAsv8A8TQB21FcT/wt/wAF/wDQUf8A8BZf/iaP+Fv+C/8AoKP/AOAsv/xNAHbUVxP/AAt/wX/0FH/8BZf/AImj/hb/AIL/AOgo/wD4Cy//ABNAHbUVxP8Awt/wX/0FH/8AAWX/AOJo/wCFv+C/+go//gLL/wDE0AdtRXE/8Lf8F/8AQUf/AMBZf/iaP+Fv+C/+go//AICy/wDxNACfF2PUJvh3dRaak0kcksaXqW67pGtScShR67T+Wa4G00DRL/xNHp3w0tZrSxvNJnh1aQQukQDLiPO8D58k8Dmu/wD+Fv8Agv8A6Cj/APgLL/8AE0i/F3wSv3dTcfS1l/8AiaAOFOsnVvhfofgmKyu110XVrbXFu0DgQeTKkjuWxjbhOoPf2NegeMNR0vWfDPiDS5NOvNUNjEv2q1hjaNyDyDGzABiME/KTyPWof+Fu+Ct2f7TfPr9ll/8AiaX/AIW/4L/6Cj/+Asv/AMTTeu4KyPOYdFn8T+MvDreHNc1jVJdMie4N5qkWI7L5CEQjau5ixGep+X60ah4P8ceHtX8IWou9GvJBqcs32tLSYs0rRndJOd3ORxxjoK9FHxd8FL93U3H0tZf/AIml/wCFv+C/+go//gLL/wDE0J2dw6WO0j3+WvmlS+PmKjjNOrE8OeL9F8V/af7DumuPs23zcxMm3dnH3gM/dNbdICvegG2wRkeYnB/3xVS61PTLPXLHSZwq3l+krwJ5edwj27ue2Nwq5ef8e4/66J/6GK4vxQhk+MHg5A7IWstSG5eo+WLkUCZ11hc6dqlr9p09oLiHeyeZGARuVirD8CCPwpuqXdho+l3Go36pHbW0ZklYJnCgZJwK8W0Gafw/8IYJIvEmpWz3+szwBIkE07ATygpAAvDttyS2R1ps+s6nLF4x0u4n1o6e3h77XDBrJQyoxd1JG3kLx0PP6UAe42xtbu1iuII0aOVA6HYOQRkVL5EP/PJP++RXlh8W3ngnVraXVrh5NFvtBE9sjEYimgTLKvPVgw47kDHeu28Crqn/AAhlhNr1w9xfXCm4kZ/4Q7FlT6KCF/CmwWxu+RD/AM8k/wC+RR5EP/PJP++RUlFIZH5EP/PJP++RR5EP/PJP++RUlFAEfkQ/88k/75FHkQ/88k/75FSUUAR+RD/zyT/vkUeRD/zyT/vkVJRQBH5EP/PJP++RR5EP/PJP++RUlFAEfkQ/88k/75FHkQ/88k/75FSUUAR+RD/zyT/vkUeRD/zyT/vkVJRQBH5EP/PJP++RR5EP/PJP++RUlFAEfkQ/88k/75FZfiaCIeFdUxEg/wBEk/hH901sVl+Jv+RU1T/r0k/9BNAGd8P4Ij8OfD5MSH/iXQ/wj+4K6HyIf+eSf98isH4ff8k48P8A/YOh/wDQBXRUAR+RD/zyT/vkUeRD/wA8k/75FSUUAR+RD/zyT/vkUeRD/wA8k/75FSUUAR+RD/zyT/vkUeRD/wA8k/75FSUUAR+RD/zyT/vkUeRD/wA8k/75FSUUAR+RD/zyT/vkUeRD/wA8k/75FSUUAR+RD/zyT/vkVla/rui+GbOO41iSKBZX8uJBHueVv7qqBkn6Vs15b4/Gp3XxZ8K2OlyQwzSW9yYJ7hC6W77RucLxubbkAe+e1G4XS3Ov0/xf4a1LQrvV4bqGO0siy3TTRmNoCvUMpGQfak8P+L/Dvia6ltdMkH2mNBIYJoDG7Rno4DAEr7jivI/Ek17bWOu6LrMdpNeQavpv9oalbR+X9rtpHYr5g7FduD25Fd/4gWKL4veDGt9qyvbXSPt4JjCqQD7Zp+YHWa5q+j+HNNN9rMsNtAGCAsuS7Hoqgckn0FUtI8W+Hdasby6tZ441sBm7S4jMT24wTl1YAqMAnJ9K5P4qR6nc+MPBFro72yTSXs5R7tS0asIT8xUYyQMlffFcZ42vdU0vTvF2g6p9lvtVa2tJjqkMXlGeEyBRHKoOBjOOOoJ/FDsesaJ458L+INSFhp86/aHQyQrLA0fnoOrIWA3D3FV5PiT4Mj1Z9OOoQm5SbyGRYWOHzjGQMda5aI614d8YeFh4nl07VY9RDQWpgt/LbT5CmcIc/MmBgk89OfXPFn4s8AeDX8SW/iTTdTsorlrmeyS3HlzLJJ822TOc5bI9+KAPaFjRM7EVc9cDFOqO2mFxaxTBSokQNg9sipKBEF5/x7j/AK6J/wChiql3oVle+INP1mdXN3p0cscBDYUCQKGyO/3RTtds/wC0NGntPPmt/OKp5sDbXTLDlT2Ncr/wrH/qb/E3/gd/9agCQ/CnQVt2ihuNShUXv2632Xjf6LNliTH/AHQd7ZHQ5qWP4Y6GtzqVzPNqFzcapam0u5Z7osZEz+mO2Krf8Kxz08YeJf8AwP8A/rUf8Kx/6m/xN/4Hf/WoAo+N/Csvii+0LwymjynSrG4iuJb+SQbRGgOYwM7iW+6eO+a9HVQihV4AGBXDf8Kx/wCpv8Tf+B3/ANaj/hWP/U3+Jv8AwO/+tQB3VFcL/wAKx/6m/wATf+B3/wBaj/hWP/U3+Jv/AAO/+tQB3VFcL/wrH/qb/E3/AIHf/Wo/4Vj/ANTf4m/8Dv8A61AHdUVwv/Csf+pv8Tf+B3/1qP8AhWP/AFN/ib/wO/8ArUAd1RXC/wDCsf8Aqb/E3/gd/wDWo/4Vj/1N/ib/AMDv/rUAd1RXC/8ACsf+pv8AE3/gd/8AWo/4Vj/1N/ib/wADv/rUAd1RXC/8Kx/6m/xN/wCB3/1qP+FY/wDU3+Jv/A7/AOtQB3VFcL/wrH/qb/E3/gd/9aj/AIVj/wBTf4m/8Dv/AK1AHdUVwv8AwrH/AKm/xN/4Hf8A1qP+FY/9Tf4m/wDA7/61AHdVl+Jv+RU1T/r0k/8AQTXM/wDCsf8Aqb/E3/gd/wDWrP1/4beR4d1CX/hLPEcmy2dtj32VbCng8dKAOo+H3/JOPD//AGDof/QBXRV5V4L+HX2zwPotz/wlXiGDzrKJ/KhvdqJlQcKMcAdhW3/wrH/qb/E3/gd/9agDuqK4X/hWP/U3+Jv/AAO/+tR/wrH/AKm/xN/4Hf8A1qAO6orhf+FY/wDU3+Jv/A7/AOtR/wAKx/6m/wATf+B3/wBagDuqK4X/AIVj/wBTf4m/8Dv/AK1H/Csf+pv8Tf8Agd/9agDuqK4X/hWP/U3+Jv8AwO/+tR/wrH/qb/E3/gd/9agDuqK4X/hWP/U3+Jv/AAO/+tR/wrH/AKm/xN/4Hf8A1qAO6rE8SeE9O8UJam+a4huLOTzba5tZTHLE2MHDD1HBHesD/hWOOvjDxL/4H/8A1qP+FY46+MPEv/gf/wDWoA0bb4eaFDompabcRzXq6q268nupTJLKex3nkbf4cdO1O0PwHpmh6t/aS3N/fXi2/wBlilvbkymKLIO1c9Og568Vl/8ACsf+pw8S/wDgf/8AWo/4Vj/1OHiX/wAD/wD61AGpe+AdK1DQLbS7y41Cb7HN59vdvdsbiJ85yJOvfH0ptl8PNEtrPVYLr7TqL6wgS9mvJjJJIoBAAP8ACBk4x0rO/wCFY/8AU3+Jf/A//wCtR/wrHPTxh4l/8D//AK1AF7SPh1pWk6tbag91qN/NZxGG1+3XTSrAp67Qe+OM+lVE+E/h9GSES6h/Zsdx9pTTPtTfZlfOfuf3QRkL0BqP/hWIPTxh4l/8D/8A61L/AMKx/wCpv8S/+B//ANagDugAAABgDpRWF4a8Mf8ACN/af+JxqepfaNn/AB/z+Z5e3P3eOM7ufoK3aAILz/j3H/XRP/QxS3ZK2cxBwQhwfwpLz/j3H/XRP/QxXH+Kf+E3svETXHhyyt9X0y5tPJa0luhbmCXP+syVOQR2pMaOd8CeM9QsPhroA/s+91zUdQubqNT5oAULPJy8jnAAAGPpWq/xbhtdD1681DQ7qG70KeGG4s0mSQv5rqqlWHB+909q52X4a+ILLw/4V0wodU02xEzapp8V4YBLJIxfcCMbgrMcA+nvWLrfhDWfDXgfxdeT6XZaal/c6cbK2gn80IUuEGHbAJOSMnvzT6gz06w8fTN4gttJ17QbnSJr23e4tGkmSQTBACyfL0YAjj3rO/4WncwrYXd/4WvLTTb+6W2juJLmLeu44VmjB3AH86r32g+LvFniKx1DUrS30T+yrOcWzpcCdpLmRNobgDCrjPvXKQfDPxDLp+mJJ4etl1SC7inv9UutRMzzbJASYwehYck8dCOc5oA7W9+J12l9rcGk+FL7Uo9DmMd3Ok8aLgKGyu45Y4J4Hp7iu00XVYNc0Kx1W0DCC+t0uIww52uoYZ/A1zei+GdQsbXxik6xhtXvpZ7XD5yjQRoM+nzKa1/Bul3OieBtE0u+Ci5srCGCYI2QHVADg9+RQI2qKKKACiiigAooooAKKKKACiiigAooooAKKKKACsvxN/yKmqf9ekn/AKCa1Ky/E3/Iqap/16Sf+gmgCj8Pv+SceH/+wdD/AOgCuirnfh9/yTjw/wD9g6H/ANAFdFQAUUUUAFFFFABRRRQAUUUUAFFFFAHmfxquPFNv4OvZ9Cu4bDT7eAS3M4Lee7b1ARMcKMHJNdL4n0DUfEE+nRJq8mn6TEWe9S3cxyz/AC/Ku8fdXPJxzS/EXQ73xL8PdW0fS1Rru6iCRB22qTuB5P4Vi/EzSvF2tQafp/hy2SfTWYnUY1vvsskygcRh9pIBPXHUcd6QzK8G2t14ibxNo0Gvao2hWd5Gun6hFOPO3AN5sQkOdyKdoBI9eTTfAWnXd78QtTurDxDq97oWkk2gF5PvFzcY+Yj5R8q5I9zz069V4Vg1q18O3Omy+GrPw+ltEEso7W+E4ckHOcIuDnHJznJqz4C8OyeFvBNjpk6r9rRWkuCGzuldizc9+WP4VXURl/EG5vrrWfDXhuwvpbCPWbuVbmeA4k8uOIyFVPbdjGetcXrniu/+Hcni3RLfUbieOCzgudOlunMr2/mNsf5jyQpIIBz0Ndf4g0vxPq0fh7xBBplrDrOj3ckjWBuwySRupjYCTaOdpyOKxdQ+HuteLk8UaprMUGn6hqUMUGn2wk8wRLCSyl2HHzNjIA4A70tR6FXwTqVufGemx2Gu61Gbi2d5odYR9mp8D97DuGFIPOBjjt1rVe68Vf8AC5dIXWLmG30uaO4W2sLdichV/wBZIe7HPToMfiZI9F8UeJfFPhu617SbbSrXQyZnaO6ErTS7doC4AwvOf/1V0eraHeXnj7QtWhVDa2Mc6zEtgguoAwO9PZk6NHS0UUUhmfrs1zb6NPNY232u4QqY4N4TzG3DAyen1rlf+Eq8df8AQg/+VOP/AArs7z/j3H/XRP8A0MViX/ihrP4gaR4cFsGXULaeczbsbPL28Y753UrgY/8AwlXjr/oQf/KnH/hVe+1vxfqdo1rqHw6juIGZWMcmoxkEqwYHGOxAP4Vv6v4pbTPG+h6CLYOuqLMxm348vYuenfNai67pDzJCmqWbSyY2ILhCWz6DPNO9wOU/4Srx1/0IP/lTj/wo/wCEq8df9CD/AOVOP/Crmt+OP+EbsdZvtYtI0trCVI4Nlyha43Ads5Ugk8HsM10Emt6ZBbQz3GoWsMc6ho2kmUBvoc80Acn/AMJV46/6EH/ypx/4Uf8ACVeOv+hB/wDKnH/hXYzajZW9ot1PeQR27AFZnlAQ56YOcVjaL4ri1rxdrGkWoikg0+C3lS5ikDiTzd+Rx6bP1oAx/wDhKvHX/Qg/+VOP/Cj/AISrx1/0IP8A5U4/8K17jxULb4gR+HZYkSFtMkv2uWfG3ZIqYx6fNnPtWZYeOb7XRq97oGlLPpFjEwtryecRC9mXqEzwE7bycemaV0wI/wDhKvHX/Qg/+VOP/Cj/AISrx1/0IP8A5U4/8K6n+27K3tI5NSvLW0kKKzpJOo2lh0zn2P1xVh9SsY7IXkl5brbEZExlUIf+BZxTA47/AISrx1/0IP8A5U4/8KP+Eq8df9CD/wCVOP8AwrsLfU7C7jZ7W9t50RdzNHKrBR6nB4rCuPGlp/wmWh6Jp8lvepqiXLPNDOG8oxKrAYGeu79KAMz/AISrx1/0IP8A5U4/8KP+Eq8df9CD/wCVOP8AwrrRrOmNe/Y11C1NznHkiZd+fTGc0XGtaXaPsutStIX3bdsk6qc8ccnryPzoA5L/AISrx1/0IP8A5U4/8KP+Eq8df9CD/wCVOP8AwrrodY024vDa2+oWstwOsSTKW/IHNXKAOF/4Srx1/wBCD/5U4/8ACj/hKvHX/Qg/+VOP/Cu6ooA4X/hKvHX/AEIP/lTj/wAKP+Eq8df9CD/5U4/8K7qigDhf+Eq8df8AQg/+VOP/AArP1/xR42k8O6gk3gXyo2tnDP8A2lGdo2nJxivSqy/E3/Iqap/16Sf+gmgDz7wX4l8ZweB9FitPBP2mBLKJY5v7RjXzF2jDYI4z6Vt/8JV46/6EH/ypx/4VsfD7/knHh/8A7B0P/oAroqAOF/4Srx1/0IP/AJU4/wDCj/hKvHX/AEIP/lTj/wAK7qigDhf+Eq8df9CD/wCVOP8Awo/4Srx1/wBCD/5U4/8ACu6ooA4X/hKvHX/Qg/8AlTj/AMKP+Eq8df8AQg/+VOP/AAruqKAOF/4Srx1/0IP/AJU4/wDCj/hKvHX/AEIP/lTj/wAK7qigDhf+Eq8df9CD/wCVOP8Awo/4Srx1/wBCD/5U4/8ACu6ooA4X/hKvHX/Qg/8AlTj/AMKP+Eq8df8AQg/+VOP/AAruqw/FvieHwpof26WB7qaSVILe2jIDTSOcKozx7n2BoAwf+Eq8df8AQg/+VOP/AAo/4Srx1/0IP/lTj/wq94c8U6te69No3iDRDYXKwC4jmgm86F1JwV3YGGB7Gq//AAsa0m+KMXg+ztzOfJd57oN8sbgA7B6nB59M0/ICH/hKvHX/AEIP/lTj/wAKP+Eq8df9CD/5U4/8K6XxPrqeGvDN9rEsRmW0iMnlhtpc9hn3rJ8N+I/Eer36Jqnhc6daPGW+0fbYpcHHA2qc80gKH/CVeOv+hB/8qcf+FH/CVeOv+hB/8qcf+FWNL+JGma58Q5PDGlK06wWclxLd4ITcrqmxcj5vvckcDGKbH8SdPvPiNb+FNMie5YpIbi7AIjjZRnYDj5m9cdPrTsBr+GtV13U/tP8Ab+gf2P5ezyf9JWbzc53dOmMD863aKKQEF5/x7j/ron/oYrz7xpfWugfFvwnrWrzLaab9mu7Z7qU7Y45GCbQzHhc4OM+hrvdUuIbTTnuLqVIYY2RnkdsKo3DkntWNd+KvBl/AYb7WdHuIj1SWeNh+RNK1wOPvdZsfFvxo8Pt4bvLfUrbS7K4mu7i1lEkce8bVXcOMknp1rjbTwrott+zjpWtR6db/ANp/aLWYXnljzQxu0U/P1xtJGK9esfEXgbTIymnapolqrdRDLGmfripP+Eq8GfZBa/2xo32dcYh86PYMHI46deaeiDVs8r8aWlpcaT8RpL2CGXyb+1dGlUHYdkYJGenBNVdQKyfFC6CSeGBpQ0uH+yRqihrfyNn7wxYO3O7dn29q9dk8U+C5UlSXV9GdZuZQ00ZEn19fxqGfXPAN1BHDc3+gyxxDEaPJEQg9AO1D3uC0VjyXQ0sUtvB6+Jbm3uvDAv7wRNKpFsr4/dKfM6oPn2577a7P4bJoMfxT8br4W8gWQjstwtseWJMS7guOMfTvmurl8S+CJ7MWk2q6JJbKMCFpYyg+g6U608T+CrAEWOraLbggA+VNGuQOnT6n86dwOF8eeFT4y+MtlpD6jcWNtJoM7XP2fhpo/OT93nsNxUn12471Bb69NbfDbxN4H15Y4dZ0TTZUURptS4t9hCSL26cEV6L/AMJh4QNwLg65pPnBdgk+0R7gvXGc5x7VHL4p8FzTGWbV9GkkZPLLvNGSV/u59PapirDepw2geG9J1/4p3T61YwXyW/h+yVIriMSIN+/JweM4XH4muY09bG20zwYmveVH4Yt9Z1JJhPxbo6zTCEPn5QBjjP8AKvY08XeD4pTJHrekJIVCl1uIwSB0Gc9BXO+Kb7QNWtrQaJ4u0ewa2lMhgkaOS3n3dRJHkZ55z681TF/X4HnGrNp0ifEZ/BJjbT2Fg0zadyhj8z96V2fw7d2ccY3e9dHcjwqvxW8Kf8IKLAXH9l3pIstuNnkjys7f+Be9bvg5vDPh+61S/wBS8V6Nd3mplBKkDRxQxogIVVQE+pzknOa6C013wFYSiSy1DQbeQZw8UkSkZ68ilbSwHkco8Lf8KRje3+y/8Jf5v7ojb9tN95nO7Pz5z1z29sVs/wDCL6Tq1x8TdR1awt7y6iby4mniDmErao2VJ+6cnqPQV6GNc8BC++2DUNCFznPneZFvz6565qyPFvg4ebjWtIHnHMv7+P8AecY555445oezRSdjzLTPD2laTo/ww1TTbGG2v55IlnuYkCyTB4CW3kctkjvXt9c5/wAJZ4N2RJ/bOj7Yf9UPPjxHxj5eePwqb/hN/C3/AEMOmf8AgUn+NN6tsnokbtFYX/Cb+Fv+hh0z/wACk/xo/wCE38Lf9DDpn/gUn+NIDdorC/4Tfwt/0MOmf+BSf40f8Jv4W/6GHTP/AAKT/GgDdrL8Tf8AIqap/wBekn/oJqt/wm/hb/oYdM/8Ck/xrN8R+NPDMvhnUo49f013a1kCqLpCSdp460AXfh9/yTjw/wD9g6H/ANAFdFXB+BfGPhu2+H+hQ3Gu6fFLHYQq6PcoCpCDIIzwa3/+E38Lf9DDpn/gUn+NAG7RWF/wm/hb/oYdM/8AApP8aP8AhN/C3/Qw6Z/4FJ/jQBu0Vhf8Jv4W/wChh0z/AMCk/wAaP+E38Lf9DDpn/gUn+NAG7RWF/wAJv4W/6GHTP/ApP8aP+E38Lf8AQw6Z/wCBSf40AbtFYX/Cb+Fv+hh0z/wKT/Gj/hN/C3/Qw6Z/4FJ/jQBu0Vhf8Jv4W/6GHTP/AAKT/Gj/AITfwt/0MOmf+BSf40AbtebfGu2MvhzR7iSea1tLXVoJLq5hba0EZyu/Pblhz2zXWf8ACb+Fv+hh0z/wKT/GmTeMfCNxC0VxrukyxsMMj3KEEe4JoA8yXz9I8ZXWk/CG9W/W50l5poJLzzbeCYlRHIGJOGILEjvgVn6PZeIfD/xS8J2M3hi1tpltZ/MZdTEhn3MDJMzbB82cnb+GRXqtj4j8D6YGGnapolqH+95Msabvrj61O3i/wg9wk765pLTICFkNxGWUHsDnihaMHqjM+IN/4b1HwRqttrFzJPY288UV8LCQGS3YSIRuxyuDgn2rk9Ft9G0f4saJafDu8M9ld2UsmqxRXTTxBAFMLk5IDElsexrvP+Eq8GbZl/tjRsTnMo8+P94fVvX8ajsfEXgbTN39nanolrv+95MsaZ+uKFow6GXLDFB8edOSGNY0/wCEduPlUYH/AB8R07W4IoPix4VWGNY1MV2SFGMnYOa2T4w8Im4E51zSTMF2CT7RHuC9cZznHtSt4x8IvMkr67pLSJna5uEJXPXBzxQB0FFUdN1zS9Z83+ydRtr3yceZ9nlD7M5xnHTOD+VXqAKmqW8N3pz291Ek0MjIrxuuVYbhwR3rDk8NeCodSh0+XRtIW7uEZ4oTbpudV+8QMc4yK6C8/wCPcf8AXRP/AEMVw2u/8l58Kf8AYOvv5JSbtYaRszeGvBNvqFvYz6PpEd1chjDC1ugaTHJwMc4q1/whHhb/AKF7TP8AwFT/AArlvF0gHxp8GKD84gu2x7bK5qz8XeP2+HGn+N7rV9PMEs8KyWAsQN8bzCLO/d15z0oWoPQ9DTw74HeS5RdJ0bdaMFnBgjHlEjIDcccEGrf/AAhHhY9PD2mf+Aqf4V5b8QLu/v8AQfHMFpJaWSWd9bK7JaLvnUqnDNkEnJHJzwMVb1b4h6laeLH8Mv4hi046XZxG5vBpbTG5mdQwAQHCqAQTz3x70+thLa56P/whHhb/AKF7TP8AwFT/AAqvF4X8GT389lFoukvc26q00Qtk3IGztJGOM4P5Vw+mfEDxL4ms9A0rTpLex1W9nuEur57Ysnlwj76Rtg/NlcDtn2rT8AQaxbfFPxlF4guoby5W2sdtxDF5YkT99glcnB6j8Kdg0N3V9F8A6DbrNrOm6JZRscK00Ma5PtkU7TND8B6zZG70vTNFurcZBkihjYD6kDisbxvoeqy+ONL8QaFYafrctjayQSaZeSiNlV2B81GIOG+XbnHQmuaM9rdaf4xWy0u68J+Jp9ME13aTKJIXjHHmIBhWJ+Zd3B9qluyuO13Y9KTwX4TljV49A0t0YZVltkII9elEngzwlCm+XQdKRemWtkA/lXno8Ra14a8J+FbW98TadY29xaCSS6NrvnZdi7I0hBOQM8v9OnfHvfE+v+L/AIeaksmqRLJputwW/wBoNh5ZuEMqFCULfKQTn3AxVNWbsSnornrn/CEeFv8AoXtM/wDAVP8ACj/hCPC3/QvaZ/4Cp/hXm+q/EfU4/Fl9oH9vw6YNIto0kuf7Madru4Zck7Rwij09+vok/wATfEV34Z8P6i0cul2s8s0OqX8WntceUyYCEIcbVfOcnOOnblFWsek/8IR4W/6F7TP/AAFT/Cj/AIQjwt/0L2mf+Aqf4VT+Huu3HiDwybm71Ww1aRJnjFzZKUDKOm9D9xsHlfp611NAjC/4Qjwt/wBC9pn/AICp/hR/whHhb/oXtM/8BU/wrdooAwv+EI8Lf9C9pn/gKn+FH/CEeFv+he0z/wABU/wrdooAwv8AhCPC3/QvaZ/4Cp/hR/whHhb/AKF7TP8AwFT/AArdooAwv+EI8Lf9C9pn/gKn+FZviPwX4Zi8M6lJHoGmo62shVhaoCDtPPSuvrL8Tf8AIqap/wBekn/oJoA5fwL4O8N3Pw/0Ka40LT5ZZLCFnd7ZCWJQZJOOTW//AMIR4W/6F7TP/AVP8Ki+H3/JOPD/AP2Dof8A0AV0VAGF/wAIR4W/6F7TP/AVP8KP+EI8Lf8AQvaZ/wCAqf4Vu0UAYX/CEeFv+he0z/wFT/Cj/hCPC3/QvaZ/4Cp/hW7RQBhf8IR4W/6F7TP/AAFT/Cj/AIQjwt/0L2mf+Aqf4Vu0UAYX/CEeFv8AoXtM/wDAVP8ACj/hCPC3/QvaZ/4Cp/hW7RQBhf8ACEeFv+he0z/wFT/Cj/hCPC3/AEL2mf8AgKn+FbtFAHH6ppfw+0SWKPVrDQ7N5jiNZoo1Lfga0F8HeEWgEy6FpTRFdwcWyEEeucVi+MPDvkf2nrehaBbeINYvIRbSxX04CRRBTwoIPBOMrxuz14rL8J6HF4l+COj6Z/aV/bQwQeXdeVmGSQoSGibuBkEHHUD3pDOmtvDvge800ajbaTo0lmVLfaFgj2YHU7sYxwag0nSvh9r3m/2Pp+h3vlHDiGGNtv1wK88PkRfssxWzyMjzDybeNU3maXziUix/tEYPse9aHhtb+3+LukzeINFg8Nyy6Q1vbQWUglS7IIZt7ADG0DhcH600Jne33hfwXplqbjUNH0e2hBAMksEaqD9SKr2WjeANRimksdP0K4jgGZWjiiYRjnknt0P5VQ+Kfh7WfEtno1nolpZ3Iiv1uJ1vW/d7VU4DL/ECTyKx9CtbbUbvXPAfibQ7DSbqS3SeWbRh5Ud1AT3IAIweCD1BNAzotL074d63PLDpNloV3LD99IYo2K/gKE0/4dSau2lx2egtfKcG3EcW8H0x61zOn2th4l+JmlXHhCyjt9I8OJJBcahCoRZ2I2+ShA+YDqT0rN+IPh+HwxoelwaVpCLoVtfQXV1rvn+ZdROZfmbbjc2eAW3dCeOKBHrmm6Hpejeb/ZOnW1l52PM+zxBN+M4zjrjJ/Or1NjkWWNZIzlWGQfUU6gCC8/49x/10T/0MVgeLfBv/AAktxp9/ZancaTqums5tryBVcqHADKVb5WBwOo7Vv3tsbyzeATy25bGJYtu5CDkEbgR27g1k/wDCO3v/AENWtflbf/GaAMrQPAU9j4hOveIteuNe1Nbc20Es0EcSwITk7VQAZPr1py/Dy1X4a2vg77dN9ntzERcbBvPlyiUcdOSuK0/+Edvf+hq1r8rb/wCM0f8ACO3v/Q1a1+Vt/wDGaAMnVfhzbapY+Irc6hPCddljld1RSYSgUDGev3e9QTfDu9XVE1fTfEk9rqj2i215P9kiZbraPldkIwGHYj6dOK3f+Edvf+hq1r8rb/4zR/wjt7/0NWtflbf/ABmgDBf4YrHpelrZa5eQ6rpk7zx6myrJI7OCHDKeNpz0rS8K+C5PD2u6vrF5rFxql7qyxCZpY1RU8vdgKF6DDY/D3q5/wjt7/wBDVrX5W3/xmj/hHb3/AKGrWvytv/jNAGd4m8DTazr9vrui67d6HqsEJgM0CJIssZOdrIwIODyKr6Z8OjG2q3ev65dazqep2f2J7uSNI/Kh5+VUQADkk5/+vnZ/4R29/wChq1r8rb/4zR/wjt7/ANDVrX5W3/xmlYDl7L4X32n3GmXkPimeW+0+2azSaeziYGA42rtwMEY69T3p9v8ACiO38O6xpo168km1W7jvWu3iQvHKhVsgYwQSvTFdL/wjt7/0NWtflbf/ABmj/hHb3/oata/K2/8AjNVdgYM3w5vI9Wl1XSvElxZ6hd2qW99L9ljdbllGBLtIwr/Tj2pY/hs9ha6V/Y/iG+t7zTxIrzygSrdBzlvMQ8demOlbv/CO3v8A0NWtflbf/GaP+Edvf+hq1r8rb/4zSAi8HeEYvCNjeRC7e8uL66a6uJnjWPc7eiqMAYAroqwv+Edvf+hq1r8rb/4zR/wjt7/0NWtflbf/ABmgDdorC/4R29/6GrWvytv/AIzR/wAI7e/9DVrX5W3/AMZoA3aKwv8AhHb3/oata/K2/wDjNH/CO3v/AENWtflbf/GaAN2isL/hHb3/AKGrWvytv/jNH/CO3v8A0NWtflbf/GaAN2svxN/yKmqf9ekn/oJqt/wjt7/0NWtflbf/ABmobvwnc3tnNbXHinWmimQo4AthkEYP/LGgBfh9/wAk48P/APYOh/8AQBXRVzOm+DZdJ0u20+y8T60lvaxLFEp+zHCqMAZ8mrP/AAjt7/0NWtflbf8AxmgDdorC/wCEdvf+hq1r8rb/AOM0f8I7e/8AQ1a1+Vt/8ZoA3aKwv+Edvf8Aoata/K2/+M0f8I7e/wDQ1a1+Vt/8ZoA3aKwv+Edvf+hq1r8rb/4zR/wjt7/0NWtflbf/ABmgDdorC/4R29/6GrWvytv/AIzR/wAI7e/9DVrX5W3/AMZoA3aKwv8AhHb3/oata/K2/wDjNH/CO3v/AENWtflbf/GaAM3U/Bd/J4ivNX0DxFcaVJfxLHdRCFJkYqMB1DfdYDj0PcVreG/DVt4Z8Mw6NaSyypGrb5pTl5GYksx9ySTUf/CO3v8A0NWtflbf/GaP+Edvf+hq1r8rb/4zQBlN8N7CT4dxeE5Lyfy4HEsN2oAkjkDl1Ydsgml0zwNdJ4jtda8Q67Pq11YwNDZqYViSLdwzkL1YgfT2rU/4R29/6GrWvytv/jNH/CO3v/Q1a1+Vt/8AGaAM7UvBV9qelack3iW9Gq6bOZ4NRWNFJJyCrRgBWG046Vm3HwukvrPWnvvEd4+rawiwy6hHEqNDCp/1SKOgOcHue9dH/wAI7e/9DVrX5W3/AMZo/wCEdvf+hq1r8rb/AOM0AY3hrwLrPhz7Jbp4xurjTbYbfsP9n28auuOm5VDD1znNUH+FUsumrocviW8fw6lwJhp7RIWKhgwiMh+YqGGfXtmuo/4R29/6GrWvytv/AIzR/wAI7e/9DVrX5W3/AMZoA3ERY0VEGFUYAHYUtUdN06ew83z9VvdQ34x9qEXyYz02IvXPfPQVeoAKKKKACiiigAooooAKKKKACiiigAooooAKKKKACiiigAooooAKKKKACiiigAooooAKKKKACiiigAooooAKKKKACiiigAooooAKKKKACiiigAooooAKKKKACiiigD//2Q==)\n",
        "\n",
        "\n",
        "\n",
        "We can say that Series look like \"ordered dictionaries\". We can actually create Series out of dictionaries:"
      ]
    },
    {
      "cell_type": "code",
      "metadata": {
        "colab": {
          "base_uri": "https://localhost:8080/"
        },
        "id": "zAXKSI3CbBJV",
        "outputId": "2dfaf45e-23a2-493a-fa27-e1a034ed526a"
      },
      "source": [
        "pd.Series({\n",
        "    'Canada': 35.467,\n",
        "    'France': 63.951,\n",
        "    'Germany': 80.94,\n",
        "    'Italy': 60.665,\n",
        "    'Japan': 127.061,\n",
        "    'United Kingdom': 64.511,\n",
        "    'United States': 318.523\n",
        "}, name='G7 Population in millions')"
      ],
      "execution_count": 16,
      "outputs": [
        {
          "output_type": "execute_result",
          "data": {
            "text/plain": [
              "Canada             35.467\n",
              "France             63.951\n",
              "Germany            80.940\n",
              "Italy              60.665\n",
              "Japan             127.061\n",
              "United Kingdom     64.511\n",
              "United States     318.523\n",
              "Name: G7 Population in millions, dtype: float64"
            ]
          },
          "metadata": {
            "tags": []
          },
          "execution_count": 16
        }
      ]
    },
    {
      "cell_type": "code",
      "metadata": {
        "colab": {
          "base_uri": "https://localhost:8080/"
        },
        "id": "3E9nJ0fTbPdf",
        "outputId": "e764c822-1ad2-4acd-c35d-e64bcdbb6ca3"
      },
      "source": [
        "pd.Series(\n",
        "    [35.467, 63.951, 80.94, 60.665, 127.061, 64.511, 318.523],\n",
        "    index=['Canada', 'France', 'Germany', 'Italy', 'Japan', 'United Kingdom',\n",
        "       'United States'],\n",
        "    name='G7 Population in millions')"
      ],
      "execution_count": 17,
      "outputs": [
        {
          "output_type": "execute_result",
          "data": {
            "text/plain": [
              "Canada             35.467\n",
              "France             63.951\n",
              "Germany            80.940\n",
              "Italy              60.665\n",
              "Japan             127.061\n",
              "United Kingdom     64.511\n",
              "United States     318.523\n",
              "Name: G7 Population in millions, dtype: float64"
            ]
          },
          "metadata": {
            "tags": []
          },
          "execution_count": 17
        }
      ]
    },
    {
      "cell_type": "markdown",
      "metadata": {
        "id": "7EUVzqsFbRBL"
      },
      "source": [
        "You can also create Series out of other series, specifying indexes:"
      ]
    },
    {
      "cell_type": "code",
      "metadata": {
        "colab": {
          "base_uri": "https://localhost:8080/"
        },
        "id": "7tp3j9u2bS1S",
        "outputId": "b3720985-fb22-4771-c0e3-744be470abbb"
      },
      "source": [
        "pd.Series(g7_pop, index=['France', 'Germany', 'Italy', 'Spain'])"
      ],
      "execution_count": 18,
      "outputs": [
        {
          "output_type": "execute_result",
          "data": {
            "text/plain": [
              "France     63.951\n",
              "Germany    80.940\n",
              "Italy      60.665\n",
              "Spain         NaN\n",
              "Name: G7 Population in millions, dtype: float64"
            ]
          },
          "metadata": {
            "tags": []
          },
          "execution_count": 18
        }
      ]
    },
    {
      "cell_type": "markdown",
      "metadata": {
        "id": "EKzfmi6_ddir"
      },
      "source": [
        "EXERCISE"
      ]
    },
    {
      "cell_type": "code",
      "metadata": {
        "colab": {
          "base_uri": "https://localhost:8080/"
        },
        "id": "8Jnu22C2dfrp",
        "outputId": "4ddf3ebe-fd5b-493c-d027-552c9a0d7d7f"
      },
      "source": [
        "certificates_earned = pd.Series(\n",
        "    [8, 2, 5, 6],\n",
        "    index=['Tom', 'Kris', 'Ahmad', 'Beau']\n",
        ")\n",
        "\n",
        "print(certificates_earned)"
      ],
      "execution_count": 19,
      "outputs": [
        {
          "output_type": "stream",
          "text": [
            "Tom      8\n",
            "Kris     2\n",
            "Ahmad    5\n",
            "Beau     6\n",
            "dtype: int64\n"
          ],
          "name": "stdout"
        }
      ]
    },
    {
      "cell_type": "markdown",
      "metadata": {
        "id": "NesErQDxd4xR"
      },
      "source": [
        "**Indexing**\n",
        "\n",
        "Indexing works similarly to lists and dictionaries, you use the index of the element you're looking for:"
      ]
    },
    {
      "cell_type": "code",
      "metadata": {
        "colab": {
          "base_uri": "https://localhost:8080/"
        },
        "id": "vatWICAceA4G",
        "outputId": "be9684a9-5976-4984-b31c-78280f604f6d"
      },
      "source": [
        "g7_pop"
      ],
      "execution_count": 20,
      "outputs": [
        {
          "output_type": "execute_result",
          "data": {
            "text/plain": [
              "Canada             35.467\n",
              "France             63.951\n",
              "Germany            80.940\n",
              "Italy              60.665\n",
              "Japan             127.061\n",
              "United Kingdom     64.511\n",
              "United States     318.523\n",
              "Name: G7 Population in millions, dtype: float64"
            ]
          },
          "metadata": {
            "tags": []
          },
          "execution_count": 20
        }
      ]
    },
    {
      "cell_type": "code",
      "metadata": {
        "colab": {
          "base_uri": "https://localhost:8080/"
        },
        "id": "6cfGpWwKd-xP",
        "outputId": "03bce6c1-7d83-4b77-93b1-bda51f032ab8"
      },
      "source": [
        "g7_pop['Canada']"
      ],
      "execution_count": 21,
      "outputs": [
        {
          "output_type": "execute_result",
          "data": {
            "text/plain": [
              "35.467"
            ]
          },
          "metadata": {
            "tags": []
          },
          "execution_count": 21
        }
      ]
    },
    {
      "cell_type": "code",
      "metadata": {
        "colab": {
          "base_uri": "https://localhost:8080/"
        },
        "id": "X89GpuSReG1t",
        "outputId": "c9b0f9de-74d0-4bee-e7e6-578e904e43a2"
      },
      "source": [
        "g7_pop['Japan']"
      ],
      "execution_count": 22,
      "outputs": [
        {
          "output_type": "execute_result",
          "data": {
            "text/plain": [
              "127.061"
            ]
          },
          "metadata": {
            "tags": []
          },
          "execution_count": 22
        }
      ]
    },
    {
      "cell_type": "markdown",
      "metadata": {
        "id": "aM7f6st8eKa1"
      },
      "source": [
        "\n",
        "Numeric positions can also be used, with the iloc attribute:"
      ]
    },
    {
      "cell_type": "code",
      "metadata": {
        "colab": {
          "base_uri": "https://localhost:8080/"
        },
        "id": "Bt8mAwK4eI9B",
        "outputId": "591cbe99-4d90-4dbf-c737-883c0d9d9aa5"
      },
      "source": [
        "g7_pop.iloc[0]"
      ],
      "execution_count": 23,
      "outputs": [
        {
          "output_type": "execute_result",
          "data": {
            "text/plain": [
              "35.467"
            ]
          },
          "metadata": {
            "tags": []
          },
          "execution_count": 23
        }
      ]
    },
    {
      "cell_type": "code",
      "metadata": {
        "colab": {
          "base_uri": "https://localhost:8080/"
        },
        "id": "3PGxl0EuePDz",
        "outputId": "6fd88cdc-00c4-430c-8f3a-84a3699265cc"
      },
      "source": [
        "g7_pop.iloc[-1]"
      ],
      "execution_count": 24,
      "outputs": [
        {
          "output_type": "execute_result",
          "data": {
            "text/plain": [
              "318.523"
            ]
          },
          "metadata": {
            "tags": []
          },
          "execution_count": 24
        }
      ]
    },
    {
      "cell_type": "markdown",
      "metadata": {
        "id": "LadhmTY3eR8r"
      },
      "source": [
        "Selecting multiple elements at once:"
      ]
    },
    {
      "cell_type": "code",
      "metadata": {
        "colab": {
          "base_uri": "https://localhost:8080/"
        },
        "id": "wHxMjbRWeRA8",
        "outputId": "1b726236-8a82-45a6-d7f9-6fad065dcfd1"
      },
      "source": [
        "g7_pop[['Italy', 'France']]"
      ],
      "execution_count": 36,
      "outputs": [
        {
          "output_type": "execute_result",
          "data": {
            "text/plain": [
              "Italy     60.665\n",
              "France    63.951\n",
              "Name: G7 Population in millions, dtype: float64"
            ]
          },
          "metadata": {
            "tags": []
          },
          "execution_count": 36
        }
      ]
    },
    {
      "cell_type": "markdown",
      "metadata": {
        "id": "TpaOEmBHeW4M"
      },
      "source": [
        "(The result is another Series)"
      ]
    },
    {
      "cell_type": "code",
      "metadata": {
        "colab": {
          "base_uri": "https://localhost:8080/"
        },
        "id": "iMc4txn3eZdO",
        "outputId": "3307fd14-615d-4b02-daf7-7806086151fd"
      },
      "source": [
        "g7_pop.iloc[[0, 1]]"
      ],
      "execution_count": 26,
      "outputs": [
        {
          "output_type": "execute_result",
          "data": {
            "text/plain": [
              "Canada    35.467\n",
              "France    63.951\n",
              "Name: G7 Population in millions, dtype: float64"
            ]
          },
          "metadata": {
            "tags": []
          },
          "execution_count": 26
        }
      ]
    },
    {
      "cell_type": "markdown",
      "metadata": {
        "id": "d9b2iFAuecNl"
      },
      "source": [
        "Slicing also works, but important, in Pandas, the upper limit is also included:"
      ]
    },
    {
      "cell_type": "code",
      "metadata": {
        "colab": {
          "base_uri": "https://localhost:8080/"
        },
        "id": "SgRHrkaYefKb",
        "outputId": "2133956d-a34b-4d33-a65f-a1cf8458a2ee"
      },
      "source": [
        "g7_pop['Canada': 'Italy']"
      ],
      "execution_count": 27,
      "outputs": [
        {
          "output_type": "execute_result",
          "data": {
            "text/plain": [
              "Canada     35.467\n",
              "France     63.951\n",
              "Germany    80.940\n",
              "Italy      60.665\n",
              "Name: G7 Population in millions, dtype: float64"
            ]
          },
          "metadata": {
            "tags": []
          },
          "execution_count": 27
        }
      ]
    },
    {
      "cell_type": "markdown",
      "metadata": {
        "id": "q_hjzDmKeiRS"
      },
      "source": [
        "**Conditional selection (boolean arrays)**\n",
        "\n",
        "The same boolean array techniques we saw applied to numpy arrays can be used for Pandas Series:"
      ]
    },
    {
      "cell_type": "code",
      "metadata": {
        "colab": {
          "base_uri": "https://localhost:8080/"
        },
        "id": "2ITLF62kehK2",
        "outputId": "dbcadc8e-079c-4747-b2fb-87ae93612199"
      },
      "source": [
        "g7_pop"
      ],
      "execution_count": 28,
      "outputs": [
        {
          "output_type": "execute_result",
          "data": {
            "text/plain": [
              "Canada             35.467\n",
              "France             63.951\n",
              "Germany            80.940\n",
              "Italy              60.665\n",
              "Japan             127.061\n",
              "United Kingdom     64.511\n",
              "United States     318.523\n",
              "Name: G7 Population in millions, dtype: float64"
            ]
          },
          "metadata": {
            "tags": []
          },
          "execution_count": 28
        }
      ]
    },
    {
      "cell_type": "code",
      "metadata": {
        "colab": {
          "base_uri": "https://localhost:8080/"
        },
        "id": "Sri6-W4yf0dt",
        "outputId": "a097624b-dbe9-4e75-d65a-1904b7ce6b60"
      },
      "source": [
        "g7_pop > 70"
      ],
      "execution_count": 29,
      "outputs": [
        {
          "output_type": "execute_result",
          "data": {
            "text/plain": [
              "Canada            False\n",
              "France            False\n",
              "Germany            True\n",
              "Italy             False\n",
              "Japan              True\n",
              "United Kingdom    False\n",
              "United States      True\n",
              "Name: G7 Population in millions, dtype: bool"
            ]
          },
          "metadata": {
            "tags": []
          },
          "execution_count": 29
        }
      ]
    },
    {
      "cell_type": "code",
      "metadata": {
        "colab": {
          "base_uri": "https://localhost:8080/"
        },
        "id": "sVA3x882f4ps",
        "outputId": "af178679-47c8-4ad6-8c45-8006e2f45e0c"
      },
      "source": [
        "g7_pop[g7_pop > 70]"
      ],
      "execution_count": 38,
      "outputs": [
        {
          "output_type": "execute_result",
          "data": {
            "text/plain": [
              "Germany           80.940\n",
              "Japan            127.061\n",
              "United States    318.523\n",
              "Name: G7 Population in millions, dtype: float64"
            ]
          },
          "metadata": {
            "tags": []
          },
          "execution_count": 38
        }
      ]
    },
    {
      "cell_type": "code",
      "metadata": {
        "colab": {
          "base_uri": "https://localhost:8080/"
        },
        "id": "ROEDhNU1f5a5",
        "outputId": "4114c287-ce93-4a9f-91d2-4958f06ed42e"
      },
      "source": [
        "g7_pop.mean()"
      ],
      "execution_count": 31,
      "outputs": [
        {
          "output_type": "execute_result",
          "data": {
            "text/plain": [
              "107.30257142857144"
            ]
          },
          "metadata": {
            "tags": []
          },
          "execution_count": 31
        }
      ]
    },
    {
      "cell_type": "code",
      "metadata": {
        "colab": {
          "base_uri": "https://localhost:8080/"
        },
        "id": "977dQv8lf7qf",
        "outputId": "9eb12d13-5dd8-4cb9-8572-4bffd98e4d1d"
      },
      "source": [
        "g7_pop[g7_pop > g7_pop.mean()]"
      ],
      "execution_count": 32,
      "outputs": [
        {
          "output_type": "execute_result",
          "data": {
            "text/plain": [
              "Japan            127.061\n",
              "United States    318.523\n",
              "Name: G7 Population in millions, dtype: float64"
            ]
          },
          "metadata": {
            "tags": []
          },
          "execution_count": 32
        }
      ]
    },
    {
      "cell_type": "code",
      "metadata": {
        "colab": {
          "base_uri": "https://localhost:8080/"
        },
        "id": "EXLV7_3hf9-6",
        "outputId": "fa37511c-170f-451c-bff3-5f82df5a3de4"
      },
      "source": [
        "g7_pop.std()"
      ],
      "execution_count": 33,
      "outputs": [
        {
          "output_type": "execute_result",
          "data": {
            "text/plain": [
              "97.24996987121581"
            ]
          },
          "metadata": {
            "tags": []
          },
          "execution_count": 33
        }
      ]
    },
    {
      "cell_type": "code",
      "metadata": {
        "id": "4Agy_bT0f_rS"
      },
      "source": [
        "~ not\n",
        "| or\n",
        "& and"
      ],
      "execution_count": null,
      "outputs": []
    },
    {
      "cell_type": "code",
      "metadata": {
        "colab": {
          "base_uri": "https://localhost:8080/"
        },
        "id": "6eUseLK0gCHo",
        "outputId": "dd581388-2ca3-482a-e0e9-e319e1fc0955"
      },
      "source": [
        "g7_pop[(g7_pop > g7_pop.mean() - g7_pop.std() / 2) | (g7_pop > g7_pop.mean() + g7_pop.std() / 2)]"
      ],
      "execution_count": 41,
      "outputs": [
        {
          "output_type": "execute_result",
          "data": {
            "text/plain": [
              "France             63.951\n",
              "Germany            80.940\n",
              "Italy              60.665\n",
              "Japan             127.061\n",
              "United Kingdom     64.511\n",
              "United States     318.523\n",
              "Name: G7 Population in millions, dtype: float64"
            ]
          },
          "metadata": {
            "tags": []
          },
          "execution_count": 41
        }
      ]
    },
    {
      "cell_type": "markdown",
      "metadata": {
        "id": "EbGxf2SKgEiR"
      },
      "source": [
        "**Operations and methods**\n",
        "\n",
        "Series also support vectorized operations and aggregation functions as Numpy:"
      ]
    },
    {
      "cell_type": "code",
      "metadata": {
        "colab": {
          "base_uri": "https://localhost:8080/"
        },
        "id": "u1GPlh_-gKcV",
        "outputId": "4c5bd313-9905-478f-86d0-77f0f433ee48"
      },
      "source": [
        "g7_pop"
      ],
      "execution_count": 42,
      "outputs": [
        {
          "output_type": "execute_result",
          "data": {
            "text/plain": [
              "Canada             35.467\n",
              "France             63.951\n",
              "Germany            80.940\n",
              "Italy              60.665\n",
              "Japan             127.061\n",
              "United Kingdom     64.511\n",
              "United States     318.523\n",
              "Name: G7 Population in millions, dtype: float64"
            ]
          },
          "metadata": {
            "tags": []
          },
          "execution_count": 42
        }
      ]
    },
    {
      "cell_type": "code",
      "metadata": {
        "colab": {
          "base_uri": "https://localhost:8080/"
        },
        "id": "ka4K4_8NgL5l",
        "outputId": "ab7cccca-2ef5-4afb-d94d-44620ec03463"
      },
      "source": [
        "g7_pop * 1_000_000"
      ],
      "execution_count": 43,
      "outputs": [
        {
          "output_type": "execute_result",
          "data": {
            "text/plain": [
              "Canada             35467000.0\n",
              "France             63951000.0\n",
              "Germany            80940000.0\n",
              "Italy              60665000.0\n",
              "Japan             127061000.0\n",
              "United Kingdom     64511000.0\n",
              "United States     318523000.0\n",
              "Name: G7 Population in millions, dtype: float64"
            ]
          },
          "metadata": {
            "tags": []
          },
          "execution_count": 43
        }
      ]
    },
    {
      "cell_type": "code",
      "metadata": {
        "colab": {
          "base_uri": "https://localhost:8080/"
        },
        "id": "JE22xGAmgOXT",
        "outputId": "0c7cfd45-8fdb-483f-da14-1573e862d41a"
      },
      "source": [
        "g7_pop.mean()"
      ],
      "execution_count": 44,
      "outputs": [
        {
          "output_type": "execute_result",
          "data": {
            "text/plain": [
              "107.30257142857144"
            ]
          },
          "metadata": {
            "tags": []
          },
          "execution_count": 44
        }
      ]
    },
    {
      "cell_type": "code",
      "metadata": {
        "colab": {
          "base_uri": "https://localhost:8080/"
        },
        "id": "RPFThcX1gQfT",
        "outputId": "4d63f8e5-af2a-40bc-ea0a-c1de50f01656"
      },
      "source": [
        "np.log(g7_pop)"
      ],
      "execution_count": 45,
      "outputs": [
        {
          "output_type": "execute_result",
          "data": {
            "text/plain": [
              "Canada            3.568603\n",
              "France            4.158117\n",
              "Germany           4.393708\n",
              "Italy             4.105367\n",
              "Japan             4.844667\n",
              "United Kingdom    4.166836\n",
              "United States     5.763695\n",
              "Name: G7 Population in millions, dtype: float64"
            ]
          },
          "metadata": {
            "tags": []
          },
          "execution_count": 45
        }
      ]
    },
    {
      "cell_type": "code",
      "metadata": {
        "colab": {
          "base_uri": "https://localhost:8080/"
        },
        "id": "DYuqm57XgSC5",
        "outputId": "1ad13da0-d688-42d1-8744-78add315b2cb"
      },
      "source": [
        "g7_pop['France': 'Italy'].mean()"
      ],
      "execution_count": 46,
      "outputs": [
        {
          "output_type": "execute_result",
          "data": {
            "text/plain": [
              "68.51866666666666"
            ]
          },
          "metadata": {
            "tags": []
          },
          "execution_count": 46
        }
      ]
    },
    {
      "cell_type": "markdown",
      "metadata": {
        "id": "dknoyvjWgXv3"
      },
      "source": [
        "**Boolean arrays**\n",
        "\n",
        "(Work in the same way as numpy)"
      ]
    },
    {
      "cell_type": "code",
      "metadata": {
        "colab": {
          "base_uri": "https://localhost:8080/"
        },
        "id": "Ss-o99nPgbvb",
        "outputId": "6baffbd7-fecc-4928-b0dc-ea33cd277428"
      },
      "source": [
        "g7_pop"
      ],
      "execution_count": 47,
      "outputs": [
        {
          "output_type": "execute_result",
          "data": {
            "text/plain": [
              "Canada             35.467\n",
              "France             63.951\n",
              "Germany            80.940\n",
              "Italy              60.665\n",
              "Japan             127.061\n",
              "United Kingdom     64.511\n",
              "United States     318.523\n",
              "Name: G7 Population in millions, dtype: float64"
            ]
          },
          "metadata": {
            "tags": []
          },
          "execution_count": 47
        }
      ]
    },
    {
      "cell_type": "code",
      "metadata": {
        "colab": {
          "base_uri": "https://localhost:8080/"
        },
        "id": "CSjgSQJ4ggCY",
        "outputId": "e0657008-36ed-4d4e-8d20-996d756cb1b5"
      },
      "source": [
        "g7_pop > 80"
      ],
      "execution_count": 48,
      "outputs": [
        {
          "output_type": "execute_result",
          "data": {
            "text/plain": [
              "Canada            False\n",
              "France            False\n",
              "Germany            True\n",
              "Italy             False\n",
              "Japan              True\n",
              "United Kingdom    False\n",
              "United States      True\n",
              "Name: G7 Population in millions, dtype: bool"
            ]
          },
          "metadata": {
            "tags": []
          },
          "execution_count": 48
        }
      ]
    },
    {
      "cell_type": "code",
      "metadata": {
        "colab": {
          "base_uri": "https://localhost:8080/"
        },
        "id": "Yqe5HrVegjuX",
        "outputId": "f5b552f4-c2e9-4724-9ab7-b5935e362554"
      },
      "source": [
        "g7_pop[g7_pop > 80]"
      ],
      "execution_count": 49,
      "outputs": [
        {
          "output_type": "execute_result",
          "data": {
            "text/plain": [
              "Germany           80.940\n",
              "Japan            127.061\n",
              "United States    318.523\n",
              "Name: G7 Population in millions, dtype: float64"
            ]
          },
          "metadata": {
            "tags": []
          },
          "execution_count": 49
        }
      ]
    },
    {
      "cell_type": "code",
      "metadata": {
        "colab": {
          "base_uri": "https://localhost:8080/"
        },
        "id": "ZeMKP7iggnfz",
        "outputId": "a67a78fa-57c5-47ce-9286-05409fd8fa21"
      },
      "source": [
        "g7_pop[(g7_pop > 80) | (g7_pop < 40)]"
      ],
      "execution_count": 50,
      "outputs": [
        {
          "output_type": "execute_result",
          "data": {
            "text/plain": [
              "Canada            35.467\n",
              "Germany           80.940\n",
              "Japan            127.061\n",
              "United States    318.523\n",
              "Name: G7 Population in millions, dtype: float64"
            ]
          },
          "metadata": {
            "tags": []
          },
          "execution_count": 50
        }
      ]
    },
    {
      "cell_type": "code",
      "metadata": {
        "colab": {
          "base_uri": "https://localhost:8080/"
        },
        "id": "95ww3lj9g0iI",
        "outputId": "b6366c7d-46ef-4860-adbb-18f1a21a68c4"
      },
      "source": [
        "g7_pop[(g7_pop > 80) & (g7_pop < 200)]"
      ],
      "execution_count": 51,
      "outputs": [
        {
          "output_type": "execute_result",
          "data": {
            "text/plain": [
              "Germany     80.940\n",
              "Japan      127.061\n",
              "Name: G7 Population in millions, dtype: float64"
            ]
          },
          "metadata": {
            "tags": []
          },
          "execution_count": 51
        }
      ]
    },
    {
      "cell_type": "markdown",
      "metadata": {
        "id": "881zOvWVg17M"
      },
      "source": [
        "**Modifying series**"
      ]
    },
    {
      "cell_type": "code",
      "metadata": {
        "id": "4eKrKa_xg4MT"
      },
      "source": [
        "g7_pop['Canada'] = 40.5"
      ],
      "execution_count": 53,
      "outputs": []
    },
    {
      "cell_type": "code",
      "metadata": {
        "colab": {
          "base_uri": "https://localhost:8080/"
        },
        "id": "GRciHUdFg5_x",
        "outputId": "c396a23a-7b56-4f44-d6b0-eea763ef6eaa"
      },
      "source": [
        "g7_pop"
      ],
      "execution_count": 54,
      "outputs": [
        {
          "output_type": "execute_result",
          "data": {
            "text/plain": [
              "Canada             40.500\n",
              "France             63.951\n",
              "Germany            80.940\n",
              "Italy              60.665\n",
              "Japan             127.061\n",
              "United Kingdom     64.511\n",
              "United States     318.523\n",
              "Name: G7 Population in millions, dtype: float64"
            ]
          },
          "metadata": {
            "tags": []
          },
          "execution_count": 54
        }
      ]
    },
    {
      "cell_type": "code",
      "metadata": {
        "id": "p82cfuypg_kD"
      },
      "source": [
        "g7_pop.iloc[-1] = 500"
      ],
      "execution_count": 55,
      "outputs": []
    },
    {
      "cell_type": "code",
      "metadata": {
        "colab": {
          "base_uri": "https://localhost:8080/"
        },
        "id": "lCJM0s6BhAJN",
        "outputId": "f390533f-a95d-4929-c778-4b6f6444c9f0"
      },
      "source": [
        "g7_pop"
      ],
      "execution_count": 56,
      "outputs": [
        {
          "output_type": "execute_result",
          "data": {
            "text/plain": [
              "Canada             40.500\n",
              "France             63.951\n",
              "Germany            80.940\n",
              "Italy              60.665\n",
              "Japan             127.061\n",
              "United Kingdom     64.511\n",
              "United States     500.000\n",
              "Name: G7 Population in millions, dtype: float64"
            ]
          },
          "metadata": {
            "tags": []
          },
          "execution_count": 56
        }
      ]
    },
    {
      "cell_type": "code",
      "metadata": {
        "colab": {
          "base_uri": "https://localhost:8080/"
        },
        "id": "tRi6mOxFhCjc",
        "outputId": "edbb2da5-86b1-4d19-8d1f-44fb05f92aeb"
      },
      "source": [
        "g7_pop[g7_pop < 70]"
      ],
      "execution_count": 57,
      "outputs": [
        {
          "output_type": "execute_result",
          "data": {
            "text/plain": [
              "Canada            40.500\n",
              "France            63.951\n",
              "Italy             60.665\n",
              "United Kingdom    64.511\n",
              "Name: G7 Population in millions, dtype: float64"
            ]
          },
          "metadata": {
            "tags": []
          },
          "execution_count": 57
        }
      ]
    },
    {
      "cell_type": "code",
      "metadata": {
        "id": "XZ_H3GX8hFkk"
      },
      "source": [
        "g7_pop[g7_pop < 70] = 99.99"
      ],
      "execution_count": 58,
      "outputs": []
    },
    {
      "cell_type": "code",
      "metadata": {
        "colab": {
          "base_uri": "https://localhost:8080/"
        },
        "id": "Z2hy9TYYhHSM",
        "outputId": "637e3c83-ae7a-4731-c59a-837b20886624"
      },
      "source": [
        "g7_pop"
      ],
      "execution_count": 59,
      "outputs": [
        {
          "output_type": "execute_result",
          "data": {
            "text/plain": [
              "Canada             99.990\n",
              "France             99.990\n",
              "Germany            80.940\n",
              "Italy              99.990\n",
              "Japan             127.061\n",
              "United Kingdom     99.990\n",
              "United States     500.000\n",
              "Name: G7 Population in millions, dtype: float64"
            ]
          },
          "metadata": {
            "tags": []
          },
          "execution_count": 59
        }
      ]
    },
    {
      "cell_type": "markdown",
      "metadata": {
        "id": "KulDGM42kr5e"
      },
      "source": [
        "EXERCISE"
      ]
    },
    {
      "cell_type": "code",
      "metadata": {
        "colab": {
          "base_uri": "https://localhost:8080/"
        },
        "id": "kCd5_mjZktKD",
        "outputId": "e473d69e-aa01-4931-9704-292a0856557f"
      },
      "source": [
        "certificates_earned = pd.Series(\n",
        "    [8, 2, 5, 6],\n",
        "    index=['Tom', 'Kris', 'Ahmad', 'Beau']\n",
        ")\n",
        "\n",
        "print(certificates_earned[certificates_earned > 5])"
      ],
      "execution_count": 60,
      "outputs": [
        {
          "output_type": "stream",
          "text": [
            "Tom     8\n",
            "Beau    6\n",
            "dtype: int64\n"
          ],
          "name": "stdout"
        }
      ]
    }
  ]
}